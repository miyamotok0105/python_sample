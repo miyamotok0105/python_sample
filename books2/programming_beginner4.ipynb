{
  "nbformat": 4,
  "nbformat_minor": 0,
  "metadata": {
    "colab": {
      "name": "programming_beginner4.ipynb",
      "version": "0.3.2",
      "provenance": [],
      "collapsed_sections": []
    },
    "kernelspec": {
      "name": "python3",
      "display_name": "Python 3"
    }
  },
  "cells": [
    {
      "metadata": {
        "id": "IG4r7XSKrqAN",
        "colab_type": "code",
        "colab": {}
      },
      "cell_type": "code",
      "source": [
        "#数値というデータ型"
      ],
      "execution_count": 0,
      "outputs": []
    },
    {
      "metadata": {
        "id": "1nWInxuwssEp",
        "colab_type": "code",
        "colab": {
          "base_uri": "https://localhost:8080/",
          "height": 35
        },
        "outputId": "c8df0af0-32d9-4cee-d9df-f2118b9473ca"
      },
      "cell_type": "code",
      "source": [
        "print(type(\"hhh\"))"
      ],
      "execution_count": 1,
      "outputs": [
        {
          "output_type": "stream",
          "text": [
            "<class 'str'>\n"
          ],
          "name": "stdout"
        }
      ]
    },
    {
      "metadata": {
        "id": "Lt5oPAy_swYW",
        "colab_type": "code",
        "colab": {
          "base_uri": "https://localhost:8080/",
          "height": 35
        },
        "outputId": "feb52744-4923-43bd-ddfa-3d86e45d9242"
      },
      "cell_type": "code",
      "source": [
        "print(type(1))"
      ],
      "execution_count": 3,
      "outputs": [
        {
          "output_type": "stream",
          "text": [
            "<class 'int'>\n"
          ],
          "name": "stdout"
        }
      ]
    },
    {
      "metadata": {
        "id": "RtyqGF5gsweZ",
        "colab_type": "code",
        "colab": {
          "base_uri": "https://localhost:8080/",
          "height": 52
        },
        "outputId": "76b30cd1-5050-433f-9d58-fe0011792567"
      },
      "cell_type": "code",
      "source": [
        "print(type(1.))\n",
        "print(type(1.1))"
      ],
      "execution_count": 5,
      "outputs": [
        {
          "output_type": "stream",
          "text": [
            "<class 'float'>\n",
            "<class 'float'>\n"
          ],
          "name": "stdout"
        }
      ]
    },
    {
      "metadata": {
        "id": "ND0tc1JivbnJ",
        "colab_type": "code",
        "colab": {}
      },
      "cell_type": "code",
      "source": [
        "import numpy as np\n",
        "import scipy\n",
        "from sklearn import datasets\n",
        "#sklearn.py の中のclass datasetsをよむよ。"
      ],
      "execution_count": 0,
      "outputs": []
    },
    {
      "metadata": {
        "id": "nKVK7GKHvoOx",
        "colab_type": "code",
        "colab": {
          "base_uri": "https://localhost:8080/",
          "height": 35
        },
        "outputId": "d527f43b-aa90-45b2-8b3c-f5773b6bde1f"
      },
      "cell_type": "code",
      "source": [
        "import numpy\n",
        "numpy.array([1])"
      ],
      "execution_count": 8,
      "outputs": [
        {
          "output_type": "execute_result",
          "data": {
            "text/plain": [
              "array([1])"
            ]
          },
          "metadata": {
            "tags": []
          },
          "execution_count": 8
        }
      ]
    },
    {
      "metadata": {
        "id": "OVLxqJE5wWTo",
        "colab_type": "code",
        "colab": {
          "base_uri": "https://localhost:8080/",
          "height": 35
        },
        "outputId": "08204d7a-2d71-477d-95af-e8891542527a"
      },
      "cell_type": "code",
      "source": [
        "import numpy as np\n",
        "a_array = np.array([1])\n",
        "a_array"
      ],
      "execution_count": 10,
      "outputs": [
        {
          "output_type": "execute_result",
          "data": {
            "text/plain": [
              "array([1])"
            ]
          },
          "metadata": {
            "tags": []
          },
          "execution_count": 10
        }
      ]
    },
    {
      "metadata": {
        "id": "omAnwlxBwcN2",
        "colab_type": "code",
        "colab": {
          "base_uri": "https://localhost:8080/",
          "height": 34
        },
        "outputId": "37e5d93e-be25-472d-8cab-3c2375710055"
      },
      "cell_type": "code",
      "source": [
        "print(type(a_array))"
      ],
      "execution_count": 11,
      "outputs": [
        {
          "output_type": "stream",
          "text": [
            "<class 'numpy.ndarray'>\n"
          ],
          "name": "stdout"
        }
      ]
    },
    {
      "metadata": {
        "id": "tmwZ61MyzCCV",
        "colab_type": "code",
        "colab": {}
      },
      "cell_type": "code",
      "source": [
        "import tensorflow as tf"
      ],
      "execution_count": 0,
      "outputs": []
    },
    {
      "metadata": {
        "id": "KoYJoK_NzFiS",
        "colab_type": "code",
        "colab": {
          "base_uri": "https://localhost:8080/",
          "height": 34
        },
        "outputId": "6a9a7a74-9af3-480d-cc72-5e5d16c1cc56"
      },
      "cell_type": "code",
      "source": [
        "tf_array = tf.ones(2)\n",
        "tf_array"
      ],
      "execution_count": 17,
      "outputs": [
        {
          "output_type": "execute_result",
          "data": {
            "text/plain": [
              "<tf.Tensor 'ones_2:0' shape=(2,) dtype=float32>"
            ]
          },
          "metadata": {
            "tags": []
          },
          "execution_count": 17
        }
      ]
    },
    {
      "metadata": {
        "id": "edeNCkZWzMJj",
        "colab_type": "code",
        "colab": {
          "base_uri": "https://localhost:8080/",
          "height": 34
        },
        "outputId": "f378eeaf-c1e3-4a59-e2cf-3cd0a925fab8"
      },
      "cell_type": "code",
      "source": [
        "type(tf_array)"
      ],
      "execution_count": 18,
      "outputs": [
        {
          "output_type": "execute_result",
          "data": {
            "text/plain": [
              "tensorflow.python.framework.ops.Tensor"
            ]
          },
          "metadata": {
            "tags": []
          },
          "execution_count": 18
        }
      ]
    },
    {
      "metadata": {
        "id": "Ii4BfGrUzfeN",
        "colab_type": "code",
        "colab": {}
      },
      "cell_type": "code",
      "source": [
        "#数値型で遊んでみる"
      ],
      "execution_count": 0,
      "outputs": []
    },
    {
      "metadata": {
        "id": "FJj-kNlx0Ry8",
        "colab_type": "code",
        "colab": {
          "base_uri": "https://localhost:8080/",
          "height": 34
        },
        "outputId": "a43eb7f3-8d99-4bec-bede-6c1d122d682b"
      },
      "cell_type": "code",
      "source": [
        "print(2+3-1)"
      ],
      "execution_count": 20,
      "outputs": [
        {
          "output_type": "stream",
          "text": [
            "4\n"
          ],
          "name": "stdout"
        }
      ]
    },
    {
      "metadata": {
        "id": "14LL6M5I0Vgu",
        "colab_type": "code",
        "colab": {
          "base_uri": "https://localhost:8080/",
          "height": 34
        },
        "outputId": "fcaec9d9-2f9a-4dc0-824e-6a892f280830"
      },
      "cell_type": "code",
      "source": [
        "print(2 + 3 - 1)"
      ],
      "execution_count": 21,
      "outputs": [
        {
          "output_type": "stream",
          "text": [
            "4\n"
          ],
          "name": "stdout"
        }
      ]
    },
    {
      "metadata": {
        "id": "jh--1ttB0Y1Y",
        "colab_type": "code",
        "colab": {
          "base_uri": "https://localhost:8080/",
          "height": 34
        },
        "outputId": "6ccc60de-2f80-4be2-dac8-abee4051272d"
      },
      "cell_type": "code",
      "source": [
        "print(2*8)"
      ],
      "execution_count": 22,
      "outputs": [
        {
          "output_type": "stream",
          "text": [
            "16\n"
          ],
          "name": "stdout"
        }
      ]
    },
    {
      "metadata": {
        "id": "ECJkwZe90iYT",
        "colab_type": "code",
        "colab": {
          "base_uri": "https://localhost:8080/",
          "height": 34
        },
        "outputId": "28ebd85a-aadb-49bb-9535-e683c833f78f"
      },
      "cell_type": "code",
      "source": [
        "#累乗　２の８乗\n",
        "print(2**8)"
      ],
      "execution_count": 23,
      "outputs": [
        {
          "output_type": "stream",
          "text": [
            "256\n"
          ],
          "name": "stdout"
        }
      ]
    },
    {
      "metadata": {
        "id": "7uekOmPa0kFQ",
        "colab_type": "code",
        "colab": {
          "base_uri": "https://localhost:8080/",
          "height": 34
        },
        "outputId": "710dc413-0c19-41e1-cf3c-306cc012dd40"
      },
      "cell_type": "code",
      "source": [
        "print(2/8)"
      ],
      "execution_count": 24,
      "outputs": [
        {
          "output_type": "stream",
          "text": [
            "0.25\n"
          ],
          "name": "stdout"
        }
      ]
    },
    {
      "metadata": {
        "id": "XFFcd9xc0nWg",
        "colab_type": "code",
        "colab": {
          "base_uri": "https://localhost:8080/",
          "height": 35
        },
        "outputId": "ff25e8b5-dfba-4f29-ae92-111f8e646416"
      },
      "cell_type": "code",
      "source": [
        "print(2%8)"
      ],
      "execution_count": 27,
      "outputs": [
        {
          "output_type": "stream",
          "text": [
            "2\n"
          ],
          "name": "stdout"
        }
      ]
    },
    {
      "metadata": {
        "id": "13NJ3i-V0xkY",
        "colab_type": "code",
        "colab": {
          "base_uri": "https://localhost:8080/",
          "height": 35
        },
        "outputId": "da83527f-a0d5-4fad-f0c4-52f1d18241b3"
      },
      "cell_type": "code",
      "source": [
        "#複雑な方に合わせる。5のintをfloatに合わせる\n",
        "print(12.0/5)"
      ],
      "execution_count": 28,
      "outputs": [
        {
          "output_type": "stream",
          "text": [
            "2.4\n"
          ],
          "name": "stdout"
        }
      ]
    },
    {
      "metadata": {
        "id": "IPK81tEL1AP4",
        "colab_type": "code",
        "colab": {
          "base_uri": "https://localhost:8080/",
          "height": 35
        },
        "outputId": "d8365fe3-a1c1-4754-8587-945e31c848ee"
      },
      "cell_type": "code",
      "source": [
        "import numpy as np\n",
        "a_array = np.array([3])\n",
        "b_array = np.array([2])\n",
        "result = a_array * b_array\n",
        "result"
      ],
      "execution_count": 29,
      "outputs": [
        {
          "output_type": "execute_result",
          "data": {
            "text/plain": [
              "array([6])"
            ]
          },
          "metadata": {
            "tags": []
          },
          "execution_count": 29
        }
      ]
    },
    {
      "metadata": {
        "id": "6Vk8O6Xt1VcZ",
        "colab_type": "code",
        "colab": {
          "base_uri": "https://localhost:8080/",
          "height": 34
        },
        "outputId": "0806ded5-8c97-4179-a468-2c39f5600a9e"
      },
      "cell_type": "code",
      "source": [
        "import numpy as np\n",
        "a_array = np.array(3)\n",
        "b_array = np.array(2)\n",
        "result = a_array * b_array\n",
        "result"
      ],
      "execution_count": 30,
      "outputs": [
        {
          "output_type": "execute_result",
          "data": {
            "text/plain": [
              "6"
            ]
          },
          "metadata": {
            "tags": []
          },
          "execution_count": 30
        }
      ]
    },
    {
      "metadata": {
        "id": "bwaMkou01dFv",
        "colab_type": "code",
        "colab": {
          "base_uri": "https://localhost:8080/",
          "height": 34
        },
        "outputId": "6a614eeb-3504-48a7-9891-b20064378e48"
      },
      "cell_type": "code",
      "source": [
        "print(5*(2+3))"
      ],
      "execution_count": 31,
      "outputs": [
        {
          "output_type": "stream",
          "text": [
            "25\n"
          ],
          "name": "stdout"
        }
      ]
    },
    {
      "metadata": {
        "id": "WXXMXmcK1lki",
        "colab_type": "code",
        "colab": {}
      },
      "cell_type": "code",
      "source": [
        "#数値型と文字列型の取り扱いの違い"
      ],
      "execution_count": 0,
      "outputs": []
    },
    {
      "metadata": {
        "id": "sirKLCE21sGq",
        "colab_type": "code",
        "colab": {
          "base_uri": "https://localhost:8080/",
          "height": 34
        },
        "outputId": "2c0829f0-ea8f-46be-f2fe-dff2b0cdb0a8"
      },
      "cell_type": "code",
      "source": [
        "print(type(\"39\"))"
      ],
      "execution_count": 33,
      "outputs": [
        {
          "output_type": "stream",
          "text": [
            "<class 'str'>\n"
          ],
          "name": "stdout"
        }
      ]
    },
    {
      "metadata": {
        "id": "9tqTU0Xj1we2",
        "colab_type": "code",
        "colab": {
          "base_uri": "https://localhost:8080/",
          "height": 34
        },
        "outputId": "13b18082-9fb2-419c-ee73-ab110298de87"
      },
      "cell_type": "code",
      "source": [
        "print(\"I am 39 years old\".find(\"39\"))"
      ],
      "execution_count": 34,
      "outputs": [
        {
          "output_type": "stream",
          "text": [
            "5\n"
          ],
          "name": "stdout"
        }
      ]
    },
    {
      "metadata": {
        "id": "yjKVvD_w13v9",
        "colab_type": "code",
        "colab": {
          "base_uri": "https://localhost:8080/",
          "height": 168
        },
        "outputId": "c9f9a1a9-5848-42c3-ce18-96cfa07f0422"
      },
      "cell_type": "code",
      "source": [
        "print(\"I am 39 years old\".find(39))"
      ],
      "execution_count": 35,
      "outputs": [
        {
          "output_type": "error",
          "ename": "TypeError",
          "evalue": "ignored",
          "traceback": [
            "\u001b[0;31m---------------------------------------------------------------------------\u001b[0m",
            "\u001b[0;31mTypeError\u001b[0m                                 Traceback (most recent call last)",
            "\u001b[0;32m<ipython-input-35-8244976ec662>\u001b[0m in \u001b[0;36m<module>\u001b[0;34m()\u001b[0m\n\u001b[0;32m----> 1\u001b[0;31m \u001b[0mprint\u001b[0m\u001b[0;34m(\u001b[0m\u001b[0;34m\"I am 39 years old\"\u001b[0m\u001b[0;34m.\u001b[0m\u001b[0mfind\u001b[0m\u001b[0;34m(\u001b[0m\u001b[0;36m39\u001b[0m\u001b[0;34m)\u001b[0m\u001b[0;34m)\u001b[0m\u001b[0;34m\u001b[0m\u001b[0m\n\u001b[0m",
            "\u001b[0;31mTypeError\u001b[0m: must be str, not int"
          ]
        }
      ]
    },
    {
      "metadata": {
        "id": "kb34kZKB2UFB",
        "colab_type": "code",
        "colab": {
          "base_uri": "https://localhost:8080/",
          "height": 134
        },
        "outputId": "9ef20eaf-2618-4cdf-b830-be3d0572375c"
      },
      "cell_type": "code",
      "source": [
        "print(29393929.find(39))"
      ],
      "execution_count": 36,
      "outputs": [
        {
          "output_type": "error",
          "ename": "SyntaxError",
          "evalue": "ignored",
          "traceback": [
            "\u001b[0;36m  File \u001b[0;32m\"<ipython-input-36-1619e26cfa53>\"\u001b[0;36m, line \u001b[0;32m1\u001b[0m\n\u001b[0;31m    print(29393929.find(39))\u001b[0m\n\u001b[0m                      ^\u001b[0m\n\u001b[0;31mSyntaxError\u001b[0m\u001b[0;31m:\u001b[0m invalid syntax\n"
          ]
        }
      ]
    },
    {
      "metadata": {
        "id": "0rCRRhQq1-L8",
        "colab_type": "code",
        "colab": {
          "base_uri": "https://localhost:8080/",
          "height": 34
        },
        "outputId": "9adefb26-0cfe-4aab-b83d-085e6e7c7e34"
      },
      "cell_type": "code",
      "source": [
        "print(\"I am 39 years old\".find(str(39)))"
      ],
      "execution_count": 37,
      "outputs": [
        {
          "output_type": "stream",
          "text": [
            "5\n"
          ],
          "name": "stdout"
        }
      ]
    },
    {
      "metadata": {
        "id": "ap43up2O2dTF",
        "colab_type": "code",
        "colab": {
          "base_uri": "https://localhost:8080/",
          "height": 34
        },
        "outputId": "992ed3cb-53fc-4bd2-d181-4974308d9902"
      },
      "cell_type": "code",
      "source": [
        "x = \"3\"\n",
        "y = \"7\"\n",
        "print(int(x) + int(y))"
      ],
      "execution_count": 38,
      "outputs": [
        {
          "output_type": "stream",
          "text": [
            "10\n"
          ],
          "name": "stdout"
        }
      ]
    },
    {
      "metadata": {
        "id": "lI8MvH_C2nvK",
        "colab_type": "code",
        "colab": {}
      },
      "cell_type": "code",
      "source": [
        "#組み込み関数"
      ],
      "execution_count": 0,
      "outputs": []
    },
    {
      "metadata": {
        "id": "CErKHIbm2_3k",
        "colab_type": "code",
        "colab": {
          "base_uri": "https://localhost:8080/",
          "height": 34
        },
        "outputId": "b0660f9b-d2bf-4a22-f293-04320555c872"
      },
      "cell_type": "code",
      "source": [
        "seasons = ['Spring', 'Summer', 'Fall', 'Winter']\n",
        "seasons"
      ],
      "execution_count": 40,
      "outputs": [
        {
          "output_type": "execute_result",
          "data": {
            "text/plain": [
              "['Spring', 'Summer', 'Fall', 'Winter']"
            ]
          },
          "metadata": {
            "tags": []
          },
          "execution_count": 40
        }
      ]
    },
    {
      "metadata": {
        "id": "xJC6RUJ73HsX",
        "colab_type": "code",
        "colab": {
          "base_uri": "https://localhost:8080/",
          "height": 34
        },
        "outputId": "3e3ab82b-6095-4282-8a63-93a1d76226cc"
      },
      "cell_type": "code",
      "source": [
        "type(seasons)"
      ],
      "execution_count": 41,
      "outputs": [
        {
          "output_type": "execute_result",
          "data": {
            "text/plain": [
              "list"
            ]
          },
          "metadata": {
            "tags": []
          },
          "execution_count": 41
        }
      ]
    },
    {
      "metadata": {
        "id": "9lomNeB_3JL2",
        "colab_type": "code",
        "colab": {
          "base_uri": "https://localhost:8080/",
          "height": 85
        },
        "outputId": "1d3ea634-8e24-4996-b2f2-9a28106b15a5"
      },
      "cell_type": "code",
      "source": [
        "for s in seasons:\n",
        "  print(s)"
      ],
      "execution_count": 42,
      "outputs": [
        {
          "output_type": "stream",
          "text": [
            "Spring\n",
            "Summer\n",
            "Fall\n",
            "Winter\n"
          ],
          "name": "stdout"
        }
      ]
    },
    {
      "metadata": {
        "id": "rwXoKA9W3Mwo",
        "colab_type": "code",
        "colab": {
          "base_uri": "https://localhost:8080/",
          "height": 85
        },
        "outputId": "ac59cbf6-7a74-4808-97fa-5c26dc131175"
      },
      "cell_type": "code",
      "source": [
        "#enumerateはインデックスと値の組み合わせを返す\n",
        "for i, s in enumerate(seasons):\n",
        "  print(i, \" \", s)"
      ],
      "execution_count": 43,
      "outputs": [
        {
          "output_type": "stream",
          "text": [
            "0   Spring\n",
            "1   Summer\n",
            "2   Fall\n",
            "3   Winter\n"
          ],
          "name": "stdout"
        }
      ]
    },
    {
      "metadata": {
        "id": "LWvTleIZ3UtT",
        "colab_type": "code",
        "colab": {
          "base_uri": "https://localhost:8080/",
          "height": 153
        },
        "outputId": "5d42a7dd-ba6c-4d2f-deb9-3e72e98ef3e6"
      },
      "cell_type": "code",
      "source": [
        "#zip　リストを2つ回る\n",
        "for s1, s2 in zip(seasons, seasons):\n",
        "  print(s1)\n",
        "  print(s2)"
      ],
      "execution_count": 44,
      "outputs": [
        {
          "output_type": "stream",
          "text": [
            "Spring\n",
            "Spring\n",
            "Summer\n",
            "Summer\n",
            "Fall\n",
            "Fall\n",
            "Winter\n",
            "Winter\n"
          ],
          "name": "stdout"
        }
      ]
    },
    {
      "metadata": {
        "id": "PrDj_8Oe3lzB",
        "colab_type": "code",
        "colab": {
          "base_uri": "https://localhost:8080/",
          "height": 187
        },
        "outputId": "51f87b9b-8bcc-430a-e968-5643cc12518a"
      },
      "cell_type": "code",
      "source": [
        "for i in range(10):\n",
        "  print(i)"
      ],
      "execution_count": 46,
      "outputs": [
        {
          "output_type": "stream",
          "text": [
            "0\n",
            "1\n",
            "2\n",
            "3\n",
            "4\n",
            "5\n",
            "6\n",
            "7\n",
            "8\n",
            "9\n"
          ],
          "name": "stdout"
        }
      ]
    },
    {
      "metadata": {
        "id": "RE8YJBan360C",
        "colab_type": "code",
        "colab": {}
      },
      "cell_type": "code",
      "source": [
        "#format"
      ],
      "execution_count": 0,
      "outputs": []
    },
    {
      "metadata": {
        "id": "Rq0T_GWn48Sb",
        "colab_type": "code",
        "colab": {
          "base_uri": "https://localhost:8080/",
          "height": 34
        },
        "outputId": "79bcbb25-9fda-4315-d6e4-8d483710c51a"
      },
      "cell_type": "code",
      "source": [
        "x = \" John \"\n",
        "print(\"I am \"+ x + \".\")"
      ],
      "execution_count": 48,
      "outputs": [
        {
          "output_type": "stream",
          "text": [
            "I am  John .\n"
          ],
          "name": "stdout"
        }
      ]
    },
    {
      "metadata": {
        "id": "ne4xzEhu5C_r",
        "colab_type": "code",
        "colab": {
          "base_uri": "https://localhost:8080/",
          "height": 34
        },
        "outputId": "ac38c71a-4397-45a2-dacd-29f59bfc40af"
      },
      "cell_type": "code",
      "source": [
        "x = \" John \"\n",
        "print(\"I am {xx} .\".format(xx=x))"
      ],
      "execution_count": 49,
      "outputs": [
        {
          "output_type": "stream",
          "text": [
            "I am  John  .\n"
          ],
          "name": "stdout"
        }
      ]
    },
    {
      "metadata": {
        "id": "5lrUgT4t5KDd",
        "colab_type": "code",
        "colab": {
          "base_uri": "https://localhost:8080/",
          "height": 35
        },
        "outputId": "3e335a39-e919-423b-9382-a9fea130baf7"
      },
      "cell_type": "code",
      "source": [
        "x = \" John \"\n",
        "print(\"I am {xx}  {xx} {x2} .\".format(xx=x, x2=\"!!\"))"
      ],
      "execution_count": 50,
      "outputs": [
        {
          "output_type": "stream",
          "text": [
            "I am  John    John  !! .\n"
          ],
          "name": "stdout"
        }
      ]
    },
    {
      "metadata": {
        "id": "IRdUz0Zt5SS3",
        "colab_type": "code",
        "colab": {
          "base_uri": "https://localhost:8080/",
          "height": 35
        },
        "outputId": "f0cb5aae-db4d-48e9-b696-3d680561f138"
      },
      "cell_type": "code",
      "source": [
        "x = \" John \"\n",
        "print(\"I am {}  {}  .\".format(x, \"!!\"))"
      ],
      "execution_count": 52,
      "outputs": [
        {
          "output_type": "stream",
          "text": [
            "I am  John   !!  .\n"
          ],
          "name": "stdout"
        }
      ]
    },
    {
      "metadata": {
        "id": "PJaAKqv35ZXZ",
        "colab_type": "code",
        "colab": {
          "base_uri": "https://localhost:8080/",
          "height": 35
        },
        "outputId": "5f5b68bd-e6da-440a-fcdb-2d512a6afeec"
      },
      "cell_type": "code",
      "source": [
        "x = \" John \"\n",
        "print(\"I am {1}  {0}  .\".format(x, \"!!\"))"
      ],
      "execution_count": 54,
      "outputs": [
        {
          "output_type": "stream",
          "text": [
            "I am !!   John   .\n"
          ],
          "name": "stdout"
        }
      ]
    },
    {
      "metadata": {
        "id": "T2OMdruP5fvK",
        "colab_type": "code",
        "colab": {
          "base_uri": "https://localhost:8080/",
          "height": 35
        },
        "outputId": "b15c407a-7824-41ea-d3c2-708e4e7637a1"
      },
      "cell_type": "code",
      "source": [
        "x = \" John \"\n",
        "print(\"I am %s  .\"%x)"
      ],
      "execution_count": 56,
      "outputs": [
        {
          "output_type": "stream",
          "text": [
            "I am  John   .\n"
          ],
          "name": "stdout"
        }
      ]
    },
    {
      "metadata": {
        "id": "pJRHINfL5qJe",
        "colab_type": "code",
        "colab": {
          "base_uri": "https://localhost:8080/",
          "height": 35
        },
        "outputId": "f8dbe84c-80fb-4808-e5ed-dfea3d7dac81"
      },
      "cell_type": "code",
      "source": [
        "x = \" John \"\n",
        "#%sは文字列\n",
        "print(\"I am %s %s  .\"%(x, \"!!\"))"
      ],
      "execution_count": 57,
      "outputs": [
        {
          "output_type": "stream",
          "text": [
            "I am  John  !!  .\n"
          ],
          "name": "stdout"
        }
      ]
    },
    {
      "metadata": {
        "id": "kOF6TUJK51Wf",
        "colab_type": "code",
        "colab": {
          "base_uri": "https://localhost:8080/",
          "height": 35
        },
        "outputId": "e135cb27-53ba-4e62-d096-f393cf1b65fd"
      },
      "cell_type": "code",
      "source": [
        "x = \" John \"\n",
        "#%dが数字\n",
        "print(\"I am %s %d  .\"%(x, 99))"
      ],
      "execution_count": 60,
      "outputs": [
        {
          "output_type": "stream",
          "text": [
            "I am  John  99  .\n"
          ],
          "name": "stdout"
        }
      ]
    },
    {
      "metadata": {
        "id": "fbXAG0Id58NJ",
        "colab_type": "code",
        "colab": {}
      },
      "cell_type": "code",
      "source": [
        "#改行　center ljust rjust"
      ],
      "execution_count": 0,
      "outputs": []
    },
    {
      "metadata": {
        "id": "f1FuNwrg6Q37",
        "colab_type": "code",
        "colab": {
          "base_uri": "https://localhost:8080/",
          "height": 52
        },
        "outputId": "39aa5628-ccee-4013-ecd1-344d8c8bfc7c"
      },
      "cell_type": "code",
      "source": [
        "print(\"I am Joine. \\n I am Happy.\")"
      ],
      "execution_count": 62,
      "outputs": [
        {
          "output_type": "stream",
          "text": [
            "I am Joine. \n",
            " I am Happy.\n"
          ],
          "name": "stdout"
        }
      ]
    },
    {
      "metadata": {
        "id": "ijVJGU8H6amU",
        "colab_type": "code",
        "colab": {
          "base_uri": "https://localhost:8080/",
          "height": 35
        },
        "outputId": "c505e8f1-bf3b-4a42-bdb9-3e0694972b6a"
      },
      "cell_type": "code",
      "source": [
        "print(\"THE MAN\".center(30))"
      ],
      "execution_count": 64,
      "outputs": [
        {
          "output_type": "stream",
          "text": [
            "           THE MAN            \n"
          ],
          "name": "stdout"
        }
      ]
    },
    {
      "metadata": {
        "id": "Gada_hNO6hUn",
        "colab_type": "code",
        "colab": {
          "base_uri": "https://localhost:8080/",
          "height": 35
        },
        "outputId": "815aa58a-3915-4101-96e5-0f90cf51d3c2"
      },
      "cell_type": "code",
      "source": [
        "#30文字ある中での右寄せ\n",
        "print(\"THE MAN\".rjust(30))"
      ],
      "execution_count": 65,
      "outputs": [
        {
          "output_type": "stream",
          "text": [
            "                       THE MAN\n"
          ],
          "name": "stdout"
        }
      ]
    },
    {
      "metadata": {
        "id": "2Qb4F2B06oan",
        "colab_type": "code",
        "colab": {
          "base_uri": "https://localhost:8080/",
          "height": 35
        },
        "outputId": "1b0094df-8d2d-4a4a-9d90-d1de3086eb52"
      },
      "cell_type": "code",
      "source": [
        "print(\"THE MAN\".ljust(30))"
      ],
      "execution_count": 66,
      "outputs": [
        {
          "output_type": "stream",
          "text": [
            "THE MAN                       \n"
          ],
          "name": "stdout"
        }
      ]
    },
    {
      "metadata": {
        "id": "5rwwxJu76vQm",
        "colab_type": "code",
        "colab": {
          "base_uri": "https://localhost:8080/",
          "height": 123
        },
        "outputId": "c20083f9-5e06-48c1-eff5-f736fb851840"
      },
      "cell_type": "code",
      "source": [
        "#\"\"\"3つのでくくる\n",
        "print(\"\"\"\n",
        "a\n",
        "b\n",
        "c\n",
        "\n",
        "\"\"\")"
      ],
      "execution_count": 67,
      "outputs": [
        {
          "output_type": "stream",
          "text": [
            "\n",
            "a\n",
            "b\n",
            "c\n",
            "\n",
            "\n"
          ],
          "name": "stdout"
        }
      ]
    },
    {
      "metadata": {
        "id": "H7cSHfMg64WX",
        "colab_type": "code",
        "colab": {}
      },
      "cell_type": "code",
      "source": [
        ""
      ],
      "execution_count": 0,
      "outputs": []
    }
  ]
}