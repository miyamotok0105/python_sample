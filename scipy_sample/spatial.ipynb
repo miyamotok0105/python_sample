{
 "cells": [
  {
   "cell_type": "markdown",
   "metadata": {},
   "source": [
    "# k-d tree (short for k-dimensional tree) "
   ]
  },
  {
   "cell_type": "code",
   "execution_count": 1,
   "metadata": {},
   "outputs": [],
   "source": [
    "import numpy as np\n",
    "from scipy.spatial import cKDTree\n",
    "x, y = np.mgrid[0:5, 2:8]\n",
    "tree = cKDTree(np.c_[x.ravel(), y.ravel()])"
   ]
  },
  {
   "cell_type": "markdown",
   "metadata": {},
   "source": [
    "To query the nearest neighbours and return squeezed result, use"
   ]
  },
  {
   "cell_type": "code",
   "execution_count": 2,
   "metadata": {},
   "outputs": [
    {
     "name": "stdout",
     "output_type": "stream",
     "text": [
      "[2.         0.14142136] [ 0 13]\n"
     ]
    }
   ],
   "source": [
    "dd, ii = tree.query([[0, 0], [2.1, 2.9]], k=1)\n",
    "print(dd, ii)"
   ]
  },
  {
   "cell_type": "code",
   "execution_count": 3,
   "metadata": {},
   "outputs": [
    {
     "name": "stdout",
     "output_type": "stream",
     "text": [
      "[[2.         2.23606798]\n",
      " [0.14142136 0.90553851]] [[ 0  6]\n",
      " [13 12]]\n"
     ]
    }
   ],
   "source": [
    "dd, ii = tree.query([[0, 0], [2.1, 2.9]], k=2)\n",
    "print(dd, ii)"
   ]
  },
  {
   "cell_type": "code",
   "execution_count": null,
   "metadata": {},
   "outputs": [],
   "source": []
  }
 ],
 "metadata": {
  "kernelspec": {
   "display_name": "Python 3",
   "language": "python",
   "name": "python3"
  },
  "language_info": {
   "codemirror_mode": {
    "name": "ipython",
    "version": 3
   },
   "file_extension": ".py",
   "mimetype": "text/x-python",
   "name": "python",
   "nbconvert_exporter": "python",
   "pygments_lexer": "ipython3",
   "version": "3.5.4"
  }
 },
 "nbformat": 4,
 "nbformat_minor": 2
}
