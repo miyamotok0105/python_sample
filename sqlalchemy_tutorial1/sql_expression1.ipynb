{
 "cells": [
  {
   "cell_type": "markdown",
   "metadata": {},
   "source": [
    "https://docs.sqlalchemy.org/en/latest/core/tutorial.html"
   ]
  },
  {
   "cell_type": "code",
   "execution_count": 1,
   "metadata": {},
   "outputs": [
    {
     "name": "stdout",
     "output_type": "stream",
     "text": [
      "バージョンチェック\n",
      "1.2.12\n"
     ]
    }
   ],
   "source": [
    "import sqlalchemy\n",
    "\n",
    "print(\"バージョンチェック\")\n",
    "print(sqlalchemy.__version__)\n"
   ]
  },
  {
   "cell_type": "code",
   "execution_count": 2,
   "metadata": {},
   "outputs": [
    {
     "name": "stdout",
     "output_type": "stream",
     "text": [
      "接続\n"
     ]
    }
   ],
   "source": [
    "print(\"接続\")\n",
    "from sqlalchemy import create_engine\n",
    "engine = create_engine('sqlite:///:memory:', echo=True)\n"
   ]
  },
  {
   "cell_type": "code",
   "execution_count": 3,
   "metadata": {},
   "outputs": [
    {
     "name": "stdout",
     "output_type": "stream",
     "text": [
      "テーブル作成と定義\n",
      "2018-12-16 05:02:05,432 INFO sqlalchemy.engine.base.Engine SELECT CAST('test plain returns' AS VARCHAR(60)) AS anon_1\n",
      "2018-12-16 05:02:05,433 INFO sqlalchemy.engine.base.Engine ()\n",
      "2018-12-16 05:02:05,435 INFO sqlalchemy.engine.base.Engine SELECT CAST('test unicode returns' AS VARCHAR(60)) AS anon_1\n",
      "2018-12-16 05:02:05,437 INFO sqlalchemy.engine.base.Engine ()\n",
      "2018-12-16 05:02:05,440 INFO sqlalchemy.engine.base.Engine PRAGMA table_info(\"users\")\n",
      "2018-12-16 05:02:05,442 INFO sqlalchemy.engine.base.Engine ()\n",
      "2018-12-16 05:02:05,444 INFO sqlalchemy.engine.base.Engine PRAGMA table_info(\"addresses\")\n",
      "2018-12-16 05:02:05,445 INFO sqlalchemy.engine.base.Engine ()\n",
      "2018-12-16 05:02:05,449 INFO sqlalchemy.engine.base.Engine \n",
      "CREATE TABLE users (\n",
      "\tid INTEGER NOT NULL, \n",
      "\tname VARCHAR, \n",
      "\tfullname VARCHAR, \n",
      "\tPRIMARY KEY (id)\n",
      ")\n",
      "\n",
      "\n",
      "2018-12-16 05:02:05,450 INFO sqlalchemy.engine.base.Engine ()\n",
      "2018-12-16 05:02:05,452 INFO sqlalchemy.engine.base.Engine COMMIT\n",
      "2018-12-16 05:02:05,459 INFO sqlalchemy.engine.base.Engine \n",
      "CREATE TABLE addresses (\n",
      "\tid INTEGER NOT NULL, \n",
      "\tuser_id INTEGER, \n",
      "\temail_address VARCHAR NOT NULL, \n",
      "\tPRIMARY KEY (id), \n",
      "\tFOREIGN KEY(user_id) REFERENCES users (id)\n",
      ")\n",
      "\n",
      "\n",
      "2018-12-16 05:02:05,461 INFO sqlalchemy.engine.base.Engine ()\n",
      "2018-12-16 05:02:05,465 INFO sqlalchemy.engine.base.Engine COMMIT\n"
     ]
    }
   ],
   "source": [
    "print(\"テーブル作成と定義\")\n",
    "from sqlalchemy import Table, Column, Integer, String, MetaData, ForeignKey\n",
    "metadata = MetaData()\n",
    "# ユーザーテーブル\n",
    "users = Table('users', metadata,\n",
    "    Column('id', Integer, primary_key=True),\n",
    "    Column('name', String),\n",
    "    Column('fullname', String),\n",
    ")\n",
    "# アドレステーブル\n",
    "addresses = Table('addresses', metadata,\n",
    "    Column('id', Integer, primary_key=True),\n",
    "    Column('user_id', None, ForeignKey('users.id')),\n",
    "    Column('email_address', String, nullable=False)\n",
    ")\n",
    "# 作成\n",
    "metadata.create_all(engine)"
   ]
  },
  {
   "cell_type": "markdown",
   "metadata": {},
   "source": [
    "# insert"
   ]
  },
  {
   "cell_type": "code",
   "execution_count": 8,
   "metadata": {},
   "outputs": [
    {
     "name": "stdout",
     "output_type": "stream",
     "text": [
      "INSERT INTO users (id, name, fullname) VALUES (:id, :name, :fullname)\n"
     ]
    }
   ],
   "source": [
    "ins = users.insert()\n",
    "print(str(ins))"
   ]
  },
  {
   "cell_type": "code",
   "execution_count": 9,
   "metadata": {},
   "outputs": [
    {
     "data": {
      "text/plain": [
       "{'fullname': None, 'id': None, 'name': None}"
      ]
     },
     "execution_count": 9,
     "metadata": {},
     "output_type": "execute_result"
    }
   ],
   "source": [
    "ins.compile().params"
   ]
  },
  {
   "cell_type": "code",
   "execution_count": 10,
   "metadata": {},
   "outputs": [
    {
     "name": "stdout",
     "output_type": "stream",
     "text": [
      "INSERT INTO users (name, fullname) VALUES (:name, :fullname)\n"
     ]
    }
   ],
   "source": [
    "ins = users.insert().values(name='jack', fullname='Jack Jones')\n",
    "print(str(ins))"
   ]
  },
  {
   "cell_type": "code",
   "execution_count": 11,
   "metadata": {},
   "outputs": [
    {
     "data": {
      "text/plain": [
       "{'fullname': 'Jack Jones', 'name': 'jack'}"
      ]
     },
     "execution_count": 11,
     "metadata": {},
     "output_type": "execute_result"
    }
   ],
   "source": [
    "ins.compile().params"
   ]
  },
  {
   "cell_type": "markdown",
   "metadata": {},
   "source": [
    "# 実行"
   ]
  },
  {
   "cell_type": "code",
   "execution_count": 12,
   "metadata": {},
   "outputs": [
    {
     "name": "stdout",
     "output_type": "stream",
     "text": [
      "<sqlalchemy.engine.base.Connection object at 0x10efc8630>\n"
     ]
    }
   ],
   "source": [
    "conn = engine.connect()\n",
    "print(conn)"
   ]
  },
  {
   "cell_type": "code",
   "execution_count": 13,
   "metadata": {},
   "outputs": [
    {
     "name": "stdout",
     "output_type": "stream",
     "text": [
      "2018-12-16 05:03:35,716 INFO sqlalchemy.engine.base.Engine INSERT INTO users (name, fullname) VALUES (?, ?)\n",
      "2018-12-16 05:03:35,718 INFO sqlalchemy.engine.base.Engine ('jack', 'Jack Jones')\n",
      "2018-12-16 05:03:35,720 INFO sqlalchemy.engine.base.Engine COMMIT\n",
      "<sqlalchemy.engine.result.ResultProxy object at 0x10eff71d0>\n"
     ]
    }
   ],
   "source": [
    "result = conn.execute(ins)\n",
    "print(result)"
   ]
  },
  {
   "cell_type": "code",
   "execution_count": 14,
   "metadata": {},
   "outputs": [
    {
     "name": "stdout",
     "output_type": "stream",
     "text": [
      "INSERT INTO users (name, fullname) VALUES (?, ?)\n"
     ]
    }
   ],
   "source": [
    "ins.bind = engine\n",
    "print(str(ins))"
   ]
  },
  {
   "cell_type": "code",
   "execution_count": 15,
   "metadata": {},
   "outputs": [
    {
     "data": {
      "text/plain": [
       "[1]"
      ]
     },
     "execution_count": 15,
     "metadata": {},
     "output_type": "execute_result"
    }
   ],
   "source": [
    "result.inserted_primary_key"
   ]
  },
  {
   "cell_type": "markdown",
   "metadata": {},
   "source": [
    "# 複数行insert"
   ]
  },
  {
   "cell_type": "code",
   "execution_count": 16,
   "metadata": {},
   "outputs": [
    {
     "name": "stdout",
     "output_type": "stream",
     "text": [
      "2018-12-16 05:05:55,131 INFO sqlalchemy.engine.base.Engine INSERT INTO users (id, name, fullname) VALUES (?, ?, ?)\n",
      "2018-12-16 05:05:55,134 INFO sqlalchemy.engine.base.Engine (2, 'wendy', 'Wendy Williams')\n",
      "2018-12-16 05:05:55,136 INFO sqlalchemy.engine.base.Engine COMMIT\n"
     ]
    },
    {
     "data": {
      "text/plain": [
       "<sqlalchemy.engine.result.ResultProxy at 0x10eff76d8>"
      ]
     },
     "execution_count": 16,
     "metadata": {},
     "output_type": "execute_result"
    }
   ],
   "source": [
    "ins = users.insert()\n",
    "conn.execute(ins, id=2, name='wendy', fullname='Wendy Williams')"
   ]
  },
  {
   "cell_type": "code",
   "execution_count": 19,
   "metadata": {},
   "outputs": [
    {
     "name": "stdout",
     "output_type": "stream",
     "text": [
      "2018-12-16 05:07:14,576 INFO sqlalchemy.engine.base.Engine SELECT users.id, users.name, users.fullname \n",
      "FROM users\n",
      "2018-12-16 05:07:14,578 INFO sqlalchemy.engine.base.Engine ()\n",
      "(1, 'jack', 'Jack Jones')\n",
      "(2, 'wendy', 'Wendy Williams')\n"
     ]
    }
   ],
   "source": [
    "from sqlalchemy.sql import select\n",
    "s = select([users])\n",
    "result = conn.execute(s)\n",
    "for row in result:\n",
    "    print(row)"
   ]
  },
  {
   "cell_type": "code",
   "execution_count": 20,
   "metadata": {},
   "outputs": [
    {
     "name": "stdout",
     "output_type": "stream",
     "text": [
      "2018-12-16 05:08:27,799 INFO sqlalchemy.engine.base.Engine INSERT INTO addresses (user_id, email_address) VALUES (?, ?)\n",
      "2018-12-16 05:08:27,801 INFO sqlalchemy.engine.base.Engine ((1, 'jack@yahoo.com'), (1, 'jack@msn.com'), (2, 'www@www.org'), (2, 'wendy@aol.com'))\n",
      "2018-12-16 05:08:27,804 INFO sqlalchemy.engine.base.Engine COMMIT\n"
     ]
    },
    {
     "data": {
      "text/plain": [
       "<sqlalchemy.engine.result.ResultProxy at 0x10efa9f28>"
      ]
     },
     "execution_count": 20,
     "metadata": {},
     "output_type": "execute_result"
    }
   ],
   "source": [
    "conn.execute(addresses.insert(), [\n",
    "   {'user_id': 1, 'email_address' : 'jack@yahoo.com'},\n",
    "   {'user_id': 1, 'email_address' : 'jack@msn.com'},\n",
    "   {'user_id': 2, 'email_address' : 'www@www.org'},\n",
    "   {'user_id': 2, 'email_address' : 'wendy@aol.com'},\n",
    "])"
   ]
  },
  {
   "cell_type": "code",
   "execution_count": 22,
   "metadata": {},
   "outputs": [
    {
     "name": "stdout",
     "output_type": "stream",
     "text": [
      "2018-12-16 05:08:56,383 INFO sqlalchemy.engine.base.Engine SELECT addresses.id, addresses.user_id, addresses.email_address \n",
      "FROM addresses\n",
      "2018-12-16 05:08:56,384 INFO sqlalchemy.engine.base.Engine ()\n",
      "(1, 1, 'jack@yahoo.com')\n",
      "(2, 1, 'jack@msn.com')\n",
      "(3, 2, 'www@www.org')\n",
      "(4, 2, 'wendy@aol.com')\n"
     ]
    }
   ],
   "source": [
    "from sqlalchemy.sql import select\n",
    "s = select([addresses])\n",
    "result = conn.execute(s)\n",
    "for row in result:\n",
    "    print(row)"
   ]
  },
  {
   "cell_type": "markdown",
   "metadata": {},
   "source": [
    "# select"
   ]
  },
  {
   "cell_type": "code",
   "execution_count": 23,
   "metadata": {},
   "outputs": [
    {
     "name": "stdout",
     "output_type": "stream",
     "text": [
      "2018-12-16 05:10:05,151 INFO sqlalchemy.engine.base.Engine SELECT users.id, users.name, users.fullname \n",
      "FROM users\n",
      "2018-12-16 05:10:05,152 INFO sqlalchemy.engine.base.Engine ()\n",
      "(1, 'jack', 'Jack Jones')\n",
      "(2, 'wendy', 'Wendy Williams')\n"
     ]
    }
   ],
   "source": [
    "from sqlalchemy.sql import select\n",
    "s = select([users])\n",
    "result = conn.execute(s)\n",
    "for row in result:\n",
    "    print(row)"
   ]
  },
  {
   "cell_type": "code",
   "execution_count": 24,
   "metadata": {},
   "outputs": [
    {
     "name": "stdout",
     "output_type": "stream",
     "text": [
      "2018-12-16 05:10:25,052 INFO sqlalchemy.engine.base.Engine SELECT users.id, users.name, users.fullname \n",
      "FROM users\n",
      "2018-12-16 05:10:25,053 INFO sqlalchemy.engine.base.Engine ()\n",
      "name: jack ; fullname: Jack Jones\n"
     ]
    }
   ],
   "source": [
    "result = conn.execute(s)\n",
    "#１個取る\n",
    "row = result.fetchone()\n",
    "print(\"name:\", row['name'], \"; fullname:\", row['fullname'])"
   ]
  },
  {
   "cell_type": "code",
   "execution_count": 25,
   "metadata": {},
   "outputs": [
    {
     "name": "stdout",
     "output_type": "stream",
     "text": [
      "name: jack ; fullname: Jack Jones\n"
     ]
    }
   ],
   "source": [
    "#rowはインデックスでも取得できるよ\n",
    "print(\"name:\", row[1], \"; fullname:\", row[2])"
   ]
  },
  {
   "cell_type": "code",
   "execution_count": 26,
   "metadata": {},
   "outputs": [
    {
     "name": "stdout",
     "output_type": "stream",
     "text": [
      "2018-12-16 05:12:43,640 INFO sqlalchemy.engine.base.Engine SELECT users.id, users.name, users.fullname \n",
      "FROM users\n",
      "2018-12-16 05:12:43,642 INFO sqlalchemy.engine.base.Engine ()\n",
      "name: jack ; fullname: Jack Jones\n",
      "name: wendy ; fullname: Wendy Williams\n"
     ]
    }
   ],
   "source": [
    "for row in conn.execute(s):\n",
    "    print(\"name:\", row[users.c.name], \"; fullname:\", row[users.c.fullname])"
   ]
  },
  {
   "cell_type": "code",
   "execution_count": 27,
   "metadata": {},
   "outputs": [],
   "source": [
    "#破棄\n",
    "result.close()"
   ]
  },
  {
   "cell_type": "code",
   "execution_count": 29,
   "metadata": {},
   "outputs": [
    {
     "name": "stdout",
     "output_type": "stream",
     "text": [
      "2018-12-16 05:15:19,722 INFO sqlalchemy.engine.base.Engine SELECT users.name, users.fullname \n",
      "FROM users\n",
      "2018-12-16 05:15:19,723 INFO sqlalchemy.engine.base.Engine ()\n",
      "('jack', 'Jack Jones')\n",
      "('wendy', 'Wendy Williams')\n"
     ]
    }
   ],
   "source": [
    "s = select([users.c.name, users.c.fullname])\n",
    "result = conn.execute(s)\n",
    "for row in result:\n",
    "    print(row)\n",
    "result.close()"
   ]
  },
  {
   "cell_type": "code",
   "execution_count": 30,
   "metadata": {},
   "outputs": [
    {
     "name": "stdout",
     "output_type": "stream",
     "text": [
      "2018-12-16 05:15:59,177 INFO sqlalchemy.engine.base.Engine SELECT users.id, users.name, users.fullname, addresses.id, addresses.user_id, addresses.email_address \n",
      "FROM users, addresses\n",
      "2018-12-16 05:15:59,178 INFO sqlalchemy.engine.base.Engine ()\n",
      "(1, 'jack', 'Jack Jones', 1, 1, 'jack@yahoo.com')\n",
      "(1, 'jack', 'Jack Jones', 2, 1, 'jack@msn.com')\n",
      "(1, 'jack', 'Jack Jones', 3, 2, 'www@www.org')\n",
      "(1, 'jack', 'Jack Jones', 4, 2, 'wendy@aol.com')\n",
      "(2, 'wendy', 'Wendy Williams', 1, 1, 'jack@yahoo.com')\n",
      "(2, 'wendy', 'Wendy Williams', 2, 1, 'jack@msn.com')\n",
      "(2, 'wendy', 'Wendy Williams', 3, 2, 'www@www.org')\n",
      "(2, 'wendy', 'Wendy Williams', 4, 2, 'wendy@aol.com')\n"
     ]
    }
   ],
   "source": [
    "#これの方が短い書き方\n",
    "for row in conn.execute(select([users, addresses])):\n",
    "    print(row)"
   ]
  },
  {
   "cell_type": "code",
   "execution_count": 31,
   "metadata": {},
   "outputs": [
    {
     "name": "stdout",
     "output_type": "stream",
     "text": [
      "2018-12-16 05:16:30,536 INFO sqlalchemy.engine.base.Engine SELECT users.id, users.name, users.fullname, addresses.id, addresses.user_id, addresses.email_address \n",
      "FROM users, addresses \n",
      "WHERE users.id = addresses.user_id\n",
      "2018-12-16 05:16:30,537 INFO sqlalchemy.engine.base.Engine ()\n",
      "(1, 'jack', 'Jack Jones', 1, 1, 'jack@yahoo.com')\n",
      "(1, 'jack', 'Jack Jones', 2, 1, 'jack@msn.com')\n",
      "(2, 'wendy', 'Wendy Williams', 3, 2, 'www@www.org')\n",
      "(2, 'wendy', 'Wendy Williams', 4, 2, 'wendy@aol.com')\n"
     ]
    }
   ],
   "source": [
    " s = select([users, addresses]).where(users.c.id == addresses.c.user_id)\n",
    "for row in conn.execute(s):\n",
    "    print(row)"
   ]
  },
  {
   "cell_type": "code",
   "execution_count": 32,
   "metadata": {},
   "outputs": [
    {
     "data": {
      "text/plain": [
       "<sqlalchemy.sql.elements.BinaryExpression object at 0x10f014c18>"
      ]
     },
     "execution_count": 32,
     "metadata": {},
     "output_type": "execute_result"
    }
   ],
   "source": [
    "#where句の==の中身を見るにはstrに変換する\n",
    "users.c.id == addresses.c.user_id"
   ]
  },
  {
   "cell_type": "code",
   "execution_count": 33,
   "metadata": {},
   "outputs": [
    {
     "data": {
      "text/plain": [
       "'users.id = addresses.user_id'"
      ]
     },
     "execution_count": 33,
     "metadata": {},
     "output_type": "execute_result"
    }
   ],
   "source": [
    "str(users.c.id == addresses.c.user_id)"
   ]
  },
  {
   "cell_type": "markdown",
   "metadata": {},
   "source": [
    "# 演算子"
   ]
  },
  {
   "cell_type": "code",
   "execution_count": 34,
   "metadata": {},
   "outputs": [
    {
     "name": "stdout",
     "output_type": "stream",
     "text": [
      "users.id = addresses.user_id\n"
     ]
    }
   ],
   "source": [
    "print(users.c.id == addresses.c.user_id)"
   ]
  },
  {
   "cell_type": "code",
   "execution_count": 35,
   "metadata": {},
   "outputs": [
    {
     "name": "stdout",
     "output_type": "stream",
     "text": [
      "users.id = :id_1\n"
     ]
    }
   ],
   "source": [
    "#7のidデータを取得\n",
    "print(users.c.id == 7)"
   ]
  },
  {
   "cell_type": "code",
   "execution_count": 36,
   "metadata": {},
   "outputs": [
    {
     "data": {
      "text/plain": [
       "{'id_1': 7}"
      ]
     },
     "execution_count": 36,
     "metadata": {},
     "output_type": "execute_result"
    }
   ],
   "source": [
    "(users.c.id == 7).compile().params"
   ]
  },
  {
   "cell_type": "code",
   "execution_count": 37,
   "metadata": {},
   "outputs": [
    {
     "name": "stdout",
     "output_type": "stream",
     "text": [
      "users.id != :id_1\n"
     ]
    }
   ],
   "source": [
    "print(users.c.id != 7)"
   ]
  },
  {
   "cell_type": "code",
   "execution_count": 38,
   "metadata": {},
   "outputs": [
    {
     "name": "stdout",
     "output_type": "stream",
     "text": [
      "users.name IS NULL\n"
     ]
    }
   ],
   "source": [
    "print(users.c.name == None)"
   ]
  },
  {
   "cell_type": "code",
   "execution_count": 39,
   "metadata": {},
   "outputs": [
    {
     "name": "stdout",
     "output_type": "stream",
     "text": [
      "users.name < :name_1\n"
     ]
    }
   ],
   "source": [
    "print('fred' > users.c.name)"
   ]
  },
  {
   "cell_type": "code",
   "execution_count": 40,
   "metadata": {},
   "outputs": [
    {
     "name": "stdout",
     "output_type": "stream",
     "text": [
      "users.id + addresses.id\n"
     ]
    }
   ],
   "source": [
    "print(users.c.id + addresses.c.id)"
   ]
  },
  {
   "cell_type": "code",
   "execution_count": 41,
   "metadata": {},
   "outputs": [
    {
     "name": "stdout",
     "output_type": "stream",
     "text": [
      "users.name < :name_1\n"
     ]
    }
   ],
   "source": [
    "print('fred' > users.c.name)"
   ]
  },
  {
   "cell_type": "code",
   "execution_count": 42,
   "metadata": {},
   "outputs": [
    {
     "name": "stdout",
     "output_type": "stream",
     "text": [
      "users.id + addresses.id\n"
     ]
    }
   ],
   "source": [
    "print(users.c.id + addresses.c.id)"
   ]
  },
  {
   "cell_type": "code",
   "execution_count": 43,
   "metadata": {},
   "outputs": [
    {
     "name": "stdout",
     "output_type": "stream",
     "text": [
      "concat(users.name, users.fullname)\n"
     ]
    }
   ],
   "source": [
    "print((users.c.name + users.c.fullname).compile(bind=create_engine('mysql://'))) "
   ]
  },
  {
   "cell_type": "code",
   "execution_count": 50,
   "metadata": {},
   "outputs": [
    {
     "name": "stdout",
     "output_type": "stream",
     "text": [
      "2018-12-16 05:31:43,280 INFO sqlalchemy.engine.base.Engine SELECT users.id, users.name, users.fullname, addresses.id, addresses.user_id, addresses.email_address \n",
      "FROM users, addresses \n",
      "WHERE users.id = ?\n",
      "2018-12-16 05:31:43,282 INFO sqlalchemy.engine.base.Engine (1,)\n",
      "(1, 'jack', 'Jack Jones', 1, 1, 'jack@yahoo.com')\n",
      "(1, 'jack', 'Jack Jones', 2, 1, 'jack@msn.com')\n",
      "(1, 'jack', 'Jack Jones', 3, 2, 'www@www.org')\n",
      "(1, 'jack', 'Jack Jones', 4, 2, 'wendy@aol.com')\n"
     ]
    }
   ],
   "source": [
    "#id==1で絞る\n",
    "s = select([users, addresses]).where(users.c.id == 1)\n",
    "for row in conn.execute(s):\n",
    "    print(row)"
   ]
  },
  {
   "cell_type": "markdown",
   "metadata": {},
   "source": [
    "Wehre句にand\n"
   ]
  },
  {
   "cell_type": "code",
   "execution_count": 64,
   "metadata": {},
   "outputs": [
    {
     "name": "stdout",
     "output_type": "stream",
     "text": [
      "2018-12-16 05:36:36,458 INFO sqlalchemy.engine.base.Engine SELECT users.id, users.name, users.fullname, addresses.id, addresses.user_id, addresses.email_address \n",
      "FROM users, addresses \n",
      "WHERE users.id = ? AND addresses.email_address = ?\n",
      "2018-12-16 05:36:36,459 INFO sqlalchemy.engine.base.Engine (1, 'jack@yahoo.com')\n",
      "(1, 'jack', 'Jack Jones', 1, 1, 'jack@yahoo.com')\n"
     ]
    }
   ],
   "source": [
    "from sqlalchemy import select, and_\n",
    "#email_addressとidで絞る\n",
    "s = select([users, addresses]).\\\n",
    "    where(and_(users.c.id == 1, addresses.c.email_address == \"jack@yahoo.com\"))\n",
    "\n",
    "for row in conn.execute(s):\n",
    "    print(row)"
   ]
  },
  {
   "cell_type": "markdown",
   "metadata": {},
   "source": [
    "Wehre句にor\n"
   ]
  },
  {
   "cell_type": "code",
   "execution_count": 65,
   "metadata": {},
   "outputs": [
    {
     "name": "stdout",
     "output_type": "stream",
     "text": [
      "2018-12-16 05:37:50,697 INFO sqlalchemy.engine.base.Engine SELECT users.id, users.name, users.fullname, addresses.id, addresses.user_id, addresses.email_address \n",
      "FROM users, addresses \n",
      "WHERE users.id = ? OR addresses.email_address = ?\n",
      "2018-12-16 05:37:50,699 INFO sqlalchemy.engine.base.Engine (1, 'jack@yahoo.com')\n",
      "(1, 'jack', 'Jack Jones', 1, 1, 'jack@yahoo.com')\n",
      "(1, 'jack', 'Jack Jones', 2, 1, 'jack@msn.com')\n",
      "(1, 'jack', 'Jack Jones', 3, 2, 'www@www.org')\n",
      "(1, 'jack', 'Jack Jones', 4, 2, 'wendy@aol.com')\n",
      "(2, 'wendy', 'Wendy Williams', 1, 1, 'jack@yahoo.com')\n"
     ]
    }
   ],
   "source": [
    "from sqlalchemy.sql import and_, or_, not_\n",
    "from sqlalchemy import select, and_\n",
    "#email_addressとidで絞る\n",
    "s = select([users, addresses]).\\\n",
    "    where(or_(users.c.id == 1, addresses.c.email_address == \"jack@yahoo.com\"))\n",
    "\n",
    "for row in conn.execute(s):\n",
    "    print(row)"
   ]
  },
  {
   "cell_type": "markdown",
   "metadata": {},
   "source": [
    "# 結合"
   ]
  },
  {
   "cell_type": "code",
   "execution_count": 66,
   "metadata": {},
   "outputs": [
    {
     "name": "stdout",
     "output_type": "stream",
     "text": [
      "users.name LIKE :name_1 AND users.id = addresses.user_id AND (addresses.email_address = :email_address_1 OR addresses.email_address = :email_address_2) AND users.id <= :id_1\n"
     ]
    }
   ],
   "source": [
    "from sqlalchemy.sql import and_, or_, not_\n",
    "print(and_(\n",
    "        users.c.name.like('j%'),\n",
    "        users.c.id == addresses.c.user_id,\n",
    "        or_(\n",
    "             addresses.c.email_address == 'wendy@aol.com',\n",
    "             addresses.c.email_address == 'jack@yahoo.com'\n",
    "        ),\n",
    "        not_(users.c.id > 5)\n",
    "      )\n",
    " )"
   ]
  },
  {
   "cell_type": "code",
   "execution_count": 67,
   "metadata": {},
   "outputs": [
    {
     "name": "stdout",
     "output_type": "stream",
     "text": [
      "2018-12-16 05:43:51,356 INFO sqlalchemy.engine.base.Engine SELECT users.fullname || ? || addresses.email_address AS title \n",
      "FROM users, addresses \n",
      "WHERE users.id = addresses.user_id AND users.name BETWEEN ? AND ? AND (addresses.email_address LIKE ? OR addresses.email_address LIKE ?)\n",
      "2018-12-16 05:43:51,357 INFO sqlalchemy.engine.base.Engine (', ', 'm', 'z', '%@aol.com', '%@msn.com')\n"
     ]
    },
    {
     "data": {
      "text/plain": [
       "[('Wendy Williams, wendy@aol.com',)]"
      ]
     },
     "execution_count": 67,
     "metadata": {},
     "output_type": "execute_result"
    }
   ],
   "source": [
    "s = select([(users.c.fullname +\n",
    "              \", \" + addresses.c.email_address).\n",
    "               label('title')]).\\\n",
    "       where(\n",
    "          and_(\n",
    "              users.c.id == addresses.c.user_id,\n",
    "              users.c.name.between('m', 'z'),\n",
    "              or_(\n",
    "                 addresses.c.email_address.like('%@aol.com'),\n",
    "                 addresses.c.email_address.like('%@msn.com')\n",
    "              )\n",
    "          )\n",
    "       )\n",
    "conn.execute(s).fetchall()"
   ]
  },
  {
   "cell_type": "code",
   "execution_count": null,
   "metadata": {},
   "outputs": [],
   "source": []
  }
 ],
 "metadata": {
  "kernelspec": {
   "display_name": "Python 3",
   "language": "python",
   "name": "python3"
  },
  "language_info": {
   "codemirror_mode": {
    "name": "ipython",
    "version": 3
   },
   "file_extension": ".py",
   "mimetype": "text/x-python",
   "name": "python",
   "nbconvert_exporter": "python",
   "pygments_lexer": "ipython3",
   "version": "3.5.5"
  }
 },
 "nbformat": 4,
 "nbformat_minor": 2
}
