{
 "cells": [
  {
   "cell_type": "code",
   "execution_count": 1,
   "metadata": {},
   "outputs": [
    {
     "data": {
      "text/plain": [
       "[-1, 1, 10, 15, 20]"
      ]
     },
     "execution_count": 1,
     "metadata": {},
     "output_type": "execute_result"
    }
   ],
   "source": [
    "numbers = [15, 20, 10, 1, -1]\n",
    "numbers.sort()\n",
    "numbers"
   ]
  },
  {
   "cell_type": "code",
   "execution_count": 3,
   "metadata": {},
   "outputs": [
    {
     "data": {
      "text/plain": [
       "[20, 15, 10, 1, -1]"
      ]
     },
     "execution_count": 3,
     "metadata": {},
     "output_type": "execute_result"
    }
   ],
   "source": [
    "numbers.sort(reverse=True)\n",
    "numbers"
   ]
  },
  {
   "cell_type": "code",
   "execution_count": 4,
   "metadata": {},
   "outputs": [
    {
     "data": {
      "text/plain": [
       "['a', 'c', 'g']"
      ]
     },
     "execution_count": 4,
     "metadata": {},
     "output_type": "execute_result"
    }
   ],
   "source": [
    "letters = [\"g\", \"a\", \"c\"]\n",
    "letters.sort()\n",
    "letters"
   ]
  },
  {
   "cell_type": "code",
   "execution_count": 6,
   "metadata": {},
   "outputs": [
    {
     "data": {
      "text/plain": [
       "['g', 'c', 'a']"
      ]
     },
     "execution_count": 6,
     "metadata": {},
     "output_type": "execute_result"
    }
   ],
   "source": [
    "letters.sort(reverse=True)\n",
    "letters"
   ]
  },
  {
   "cell_type": "code",
   "execution_count": 7,
   "metadata": {},
   "outputs": [
    {
     "data": {
      "text/plain": [
       "['a', 'c', 'g']"
      ]
     },
     "execution_count": 7,
     "metadata": {},
     "output_type": "execute_result"
    }
   ],
   "source": [
    "sorted(letters)"
   ]
  },
  {
   "cell_type": "code",
   "execution_count": 8,
   "metadata": {},
   "outputs": [
    {
     "data": {
      "text/plain": [
       "['g', 'c', 'a']"
      ]
     },
     "execution_count": 8,
     "metadata": {},
     "output_type": "execute_result"
    }
   ],
   "source": [
    "sorted(letters, reverse=True)"
   ]
  },
  {
   "cell_type": "code",
   "execution_count": 10,
   "metadata": {},
   "outputs": [
    {
     "data": {
      "text/plain": [
       "['a', 'c', 'g']"
      ]
     },
     "execution_count": 10,
     "metadata": {},
     "output_type": "execute_result"
    }
   ],
   "source": [
    "letters[::-1]"
   ]
  },
  {
   "cell_type": "code",
   "execution_count": 11,
   "metadata": {},
   "outputs": [
    {
     "data": {
      "text/plain": [
       "{'みかん', 'もも', 'りんご', 'スイカ', 'バナナ'}"
      ]
     },
     "execution_count": 11,
     "metadata": {},
     "output_type": "execute_result"
    }
   ],
   "source": [
    "a = {\"りんご\", \"みかん\", \"もも\"}\n",
    "b = {\"りんご\", \"スイカ\", \"バナナ\"}\n",
    "c = a | b\n",
    "c"
   ]
  },
  {
   "cell_type": "markdown",
   "metadata": {},
   "source": [
    "# 関数オブジェクト"
   ]
  },
  {
   "cell_type": "code",
   "execution_count": 13,
   "metadata": {},
   "outputs": [
    {
     "name": "stdout",
     "output_type": "stream",
     "text": [
      "hello!\n"
     ]
    }
   ],
   "source": [
    "def hello():\n",
    "    print(\"hello!\")\n",
    "    \n",
    "msg = hello\n",
    "msg()"
   ]
  },
  {
   "cell_type": "code",
   "execution_count": 14,
   "metadata": {},
   "outputs": [
    {
     "name": "stdout",
     "output_type": "stream",
     "text": [
      "thank you\n"
     ]
    }
   ],
   "source": [
    "def do(func):\n",
    "    func()\n",
    "    \n",
    "def thanks():\n",
    "    print(\"thank you\")\n",
    "\n",
    "def hi():\n",
    "    print(\"yo!\")\n",
    "    \n",
    "condition = 1\n",
    "if condition == 1:\n",
    "    do(thanks)\n",
    "else:\n",
    "    do(hi)"
   ]
  },
  {
   "cell_type": "code",
   "execution_count": 26,
   "metadata": {},
   "outputs": [],
   "source": [
    "def calc(func, arg=1):\n",
    "    price = func(arg)\n",
    "    return price\n",
    "\n",
    "def child(arg):\n",
    "    return 400 * arg\n",
    "\n",
    "def adult(arg):\n",
    "    return 1200 * arg\n",
    "\n",
    "age = 12\n",
    "num = 3\n",
    "if age<16:\n",
    "    price = calc(child, num)\n",
    "else:\n",
    "    price = calc(adult, num)"
   ]
  },
  {
   "cell_type": "code",
   "execution_count": 27,
   "metadata": {},
   "outputs": [
    {
     "name": "stdout",
     "output_type": "stream",
     "text": [
      "12 age  3 num 1200 yen .\n"
     ]
    }
   ],
   "source": [
    "print(\"{age} age  {num} num {price} yen .\".format(age=age, num=num, price=price))"
   ]
  },
  {
   "cell_type": "markdown",
   "metadata": {},
   "source": [
    "# クロージャ（関数閉包）\n",
    "\n",
    "クロージャでは関数の中に関数を定義する。\n"
   ]
  },
  {
   "cell_type": "code",
   "execution_count": 30,
   "metadata": {},
   "outputs": [
    {
     "name": "stdout",
     "output_type": "stream",
     "text": [
      "<class 'function'>\n",
      "<class 'int'>\n",
      "1200\n",
      "2000\n"
     ]
    }
   ],
   "source": [
    "def charge(price):\n",
    "    def calc(num):\n",
    "        return price * num\n",
    "    return calc\n",
    "\n",
    "#priceを与えて固定された状態でオブジェクトになる。\n",
    "child = charge(400)\n",
    "adult = charge(1000)\n",
    "print(type(child))\n",
    "#priceの決まった状態のcalcを使用する\n",
    "price1 = child(3)\n",
    "price2 = adult(2)\n",
    "print(type(price1))\n",
    "\n",
    "print(price1)\n",
    "print(price2)"
   ]
  },
  {
   "cell_type": "markdown",
   "metadata": {},
   "source": [
    "# 無名関数（匿名関数、ラムダ式）"
   ]
  },
  {
   "cell_type": "code",
   "execution_count": 31,
   "metadata": {},
   "outputs": [
    {
     "name": "stdout",
     "output_type": "stream",
     "text": [
      "[8, 6, 14, 12, 4, 2]\n"
     ]
    }
   ],
   "source": [
    "def double(x):\n",
    "    return x * 2\n",
    "nums = [4, 3, 7, 6, 2, 1]\n",
    "#関数doubleをnumsリストの要素に適応する。\n",
    "nums2 = list(map(double, nums))\n",
    "print(nums2)"
   ]
  },
  {
   "cell_type": "markdown",
   "metadata": {},
   "source": [
    "# クラス定義"
   ]
  },
  {
   "cell_type": "code",
   "execution_count": 42,
   "metadata": {},
   "outputs": [
    {
     "name": "stdout",
     "output_type": "stream",
     "text": [
      "出荷台数 1 \n"
     ]
    }
   ],
   "source": [
    "class Car:\n",
    "    #クラス変数\n",
    "    maker = \"TOYOTA\"\n",
    "    count = 0\n",
    "    #クラスメソッド\n",
    "    @classmethod\n",
    "    def countup(cls):\n",
    "        cls.count += 1\n",
    "        print(\"出荷台数 {c} \".format(c=cls.count))\n",
    "    def __init__(self, color=\"white\"):\n",
    "        Car.countup()\n",
    "        self.mynumber = Car.count\n",
    "        self.color = color\n",
    "        self.mileage = 0\n",
    "    def drive(self, km):\n",
    "        self.mileage += km\n",
    "        msg = \"　{km} km走りました。走行距離は{total}kmです。\".format(km=km, total=self.mileage)\n",
    "        print(msg)\n",
    "        \n",
    "car1 = Car()\n"
   ]
  },
  {
   "cell_type": "code",
   "execution_count": 43,
   "metadata": {},
   "outputs": [
    {
     "name": "stdout",
     "output_type": "stream",
     "text": [
      "出荷台数 2 \n"
     ]
    }
   ],
   "source": [
    "car1.countup()"
   ]
  },
  {
   "cell_type": "code",
   "execution_count": 44,
   "metadata": {},
   "outputs": [
    {
     "name": "stdout",
     "output_type": "stream",
     "text": [
      "出荷台数 3 \n"
     ]
    }
   ],
   "source": [
    "car1.countup()"
   ]
  },
  {
   "cell_type": "code",
   "execution_count": 47,
   "metadata": {},
   "outputs": [
    {
     "name": "stdout",
     "output_type": "stream",
     "text": [
      "　1 km走りました。走行距離は5kmです。\n",
      "　2 km走りました。走行距離は7kmです。\n"
     ]
    }
   ],
   "source": [
    "car1.drive(1)\n",
    "car1.drive(2)"
   ]
  },
  {
   "cell_type": "markdown",
   "metadata": {},
   "source": [
    "# 作った後から変数とメソッドを追加する"
   ]
  },
  {
   "cell_type": "code",
   "execution_count": 48,
   "metadata": {},
   "outputs": [],
   "source": [
    "class Simple:\n",
    "    pass\n",
    "\n",
    "#クラス変数xを追加する\n",
    "Simple.x = 100"
   ]
  },
  {
   "cell_type": "code",
   "execution_count": 49,
   "metadata": {},
   "outputs": [],
   "source": [
    "Simple.x = 2"
   ]
  },
  {
   "cell_type": "code",
   "execution_count": 50,
   "metadata": {},
   "outputs": [
    {
     "data": {
      "text/plain": [
       "2"
      ]
     },
     "execution_count": 50,
     "metadata": {},
     "output_type": "execute_result"
    }
   ],
   "source": [
    "Simple.x"
   ]
  },
  {
   "cell_type": "code",
   "execution_count": 51,
   "metadata": {},
   "outputs": [],
   "source": [
    "def hello(msg=\"hello!\"):\n",
    "    print(msg)\n",
    "#後からクラスメソッドを定義する\n",
    "Simple.greeting = hello"
   ]
  },
  {
   "cell_type": "code",
   "execution_count": 53,
   "metadata": {},
   "outputs": [
    {
     "name": "stdout",
     "output_type": "stream",
     "text": [
      "hello!\n"
     ]
    }
   ],
   "source": [
    "Simple.greeting()"
   ]
  },
  {
   "cell_type": "code",
   "execution_count": 54,
   "metadata": {},
   "outputs": [],
   "source": [
    "#後からインスタンス変数を追加する\n",
    "obj = Simple()\n",
    "obj.a = 123"
   ]
  },
  {
   "cell_type": "code",
   "execution_count": 55,
   "metadata": {},
   "outputs": [
    {
     "data": {
      "text/plain": [
       "123"
      ]
     },
     "execution_count": 55,
     "metadata": {},
     "output_type": "execute_result"
    }
   ],
   "source": [
    "obj.a"
   ]
  },
  {
   "cell_type": "code",
   "execution_count": 56,
   "metadata": {},
   "outputs": [],
   "source": [
    "obj1 = Simple()\n",
    "obj2 = Simple()\n"
   ]
  },
  {
   "cell_type": "code",
   "execution_count": 57,
   "metadata": {},
   "outputs": [],
   "source": [
    "def drum(beat=\"tokotoko\"):\n",
    "    print(beat)\n",
    "    \n",
    "def sax(phrase=\"bubu\"):\n",
    "    print(phrase)\n",
    "    \n",
    "#obj1とobj2にplayを追加する\n",
    "obj1.play = drum\n",
    "obj2.play = sax"
   ]
  },
  {
   "cell_type": "code",
   "execution_count": 58,
   "metadata": {},
   "outputs": [
    {
     "name": "stdout",
     "output_type": "stream",
     "text": [
      "tokotoko\n"
     ]
    }
   ],
   "source": [
    "obj1.play()"
   ]
  },
  {
   "cell_type": "code",
   "execution_count": 59,
   "metadata": {},
   "outputs": [
    {
     "name": "stdout",
     "output_type": "stream",
     "text": [
      "bubu\n"
     ]
    }
   ],
   "source": [
    "obj2.play()"
   ]
  },
  {
   "cell_type": "code",
   "execution_count": 60,
   "metadata": {},
   "outputs": [],
   "source": [
    "#追加したメンバーを削除。\n",
    "#Noneかdel文で削除する。自動的にメモリから削除される。\n",
    "obj1.a = None\n",
    "obj1.play = None\n",
    "del Simple.x"
   ]
  },
  {
   "cell_type": "code",
   "execution_count": null,
   "metadata": {},
   "outputs": [],
   "source": []
  }
 ],
 "metadata": {
  "kernelspec": {
   "display_name": "Python 3",
   "language": "python",
   "name": "python3"
  },
  "language_info": {
   "codemirror_mode": {
    "name": "ipython",
    "version": 3
   },
   "file_extension": ".py",
   "mimetype": "text/x-python",
   "name": "python",
   "nbconvert_exporter": "python",
   "pygments_lexer": "ipython3",
   "version": "3.5.5"
  }
 },
 "nbformat": 4,
 "nbformat_minor": 2
}
