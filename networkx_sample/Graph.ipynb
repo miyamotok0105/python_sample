{
 "cells": [
  {
   "cell_type": "markdown",
   "metadata": {},
   "source": [
    "# Linear Search"
   ]
  },
  {
   "cell_type": "code",
   "execution_count": 16,
   "metadata": {},
   "outputs": [],
   "source": [
    "#疑似コード\n",
    "# for(start to end of array)\n",
    "# {\n",
    "#     if (current_element equals to 5)  \n",
    "#     {\n",
    "#         print (current_index);\n",
    "#     }\n",
    "# }"
   ]
  },
  {
   "cell_type": "code",
   "execution_count": 4,
   "metadata": {},
   "outputs": [
    {
     "name": "stdout",
     "output_type": "stream",
     "text": [
      "5\n"
     ]
    }
   ],
   "source": [
    "#get index\n",
    "for l in range(6):\n",
    "    if l == 5:\n",
    "        print(l)"
   ]
  },
  {
   "cell_type": "code",
   "execution_count": 5,
   "metadata": {},
   "outputs": [],
   "source": [
    "input1 = [5, 1]\n",
    "input2 = [1 ,2 ,3 ,4 ,1]"
   ]
  },
  {
   "cell_type": "code",
   "execution_count": 15,
   "metadata": {},
   "outputs": [
    {
     "name": "stdout",
     "output_type": "stream",
     "text": [
      "1\n",
      "0\n",
      "1\n"
     ]
    }
   ],
   "source": [
    "print(input1.count(1))\n",
    "print(input1.count(2))\n",
    "print(input1.index(1))\n",
    "# print(input1.index(2))#error"
   ]
  },
  {
   "cell_type": "code",
   "execution_count": null,
   "metadata": {},
   "outputs": [],
   "source": []
  },
  {
   "cell_type": "code",
   "execution_count": 18,
   "metadata": {},
   "outputs": [
    {
     "name": "stdout",
     "output_type": "stream",
     "text": [
      "[]\n",
      "[5, 1]\n"
     ]
    }
   ],
   "source": [
    "print(list(filter(lambda x: input1.count(x) == 0, input1)))\n",
    "print(list(filter(lambda x: input1.count(x) > 0, input1)))"
   ]
  },
  {
   "cell_type": "code",
   "execution_count": 27,
   "metadata": {},
   "outputs": [
    {
     "name": "stdout",
     "output_type": "stream",
     "text": [
      "[1, 1]\n",
      "[0]\n",
      "[2, 1, 1, 1, 2]\n"
     ]
    }
   ],
   "source": [
    "print(list(map(lambda x: input1.count(x), input1)))\n",
    "print(list(map(lambda x: input1.count(x), [2])))\n",
    "print(list(map(lambda x: input2.count(x), input2)))"
   ]
  },
  {
   "cell_type": "code",
   "execution_count": null,
   "metadata": {},
   "outputs": [],
   "source": []
  },
  {
   "cell_type": "markdown",
   "metadata": {},
   "source": [
    "# python-有向グラフからダイクストラ法で最短経路を見つける"
   ]
  },
  {
   "cell_type": "code",
   "execution_count": 1,
   "metadata": {},
   "outputs": [],
   "source": [
    "#http://momijiame.tumblr.com/post/68555682684/python-%E6%9C%89%E5%90%91%E3%82%B0%E3%83%A9%E3%83%95%E3%81%8B%E3%82%89%E3%83%80%E3%82%A4%E3%82%AF%E3%82%B9%E3%83%88%E3%83%A9%E6%B3%95%E3%81%A7%E6%9C%80%E7%9F%AD%E7%B5%8C%E8%B7%AF%E3%82%92%E8%A6%8B%E3%81%A4%E3%81%91%E3%82%8B"
   ]
  },
  {
   "cell_type": "code",
   "execution_count": 5,
   "metadata": {},
   "outputs": [
    {
     "ename": "SyntaxError",
     "evalue": "non-default argument follows default argument (<ipython-input-5-65e42b1e2eaa>, line 24)",
     "output_type": "error",
     "traceback": [
      "\u001b[0;36m  File \u001b[0;32m\"<ipython-input-5-65e42b1e2eaa>\"\u001b[0;36m, line \u001b[0;32m24\u001b[0m\n\u001b[0;31m    def __init__(self, name, edges=None, cost):\u001b[0m\n\u001b[0m                ^\u001b[0m\n\u001b[0;31mSyntaxError\u001b[0m\u001b[0;31m:\u001b[0m non-default argument follows default argument\n"
     ]
    }
   ],
   "source": [
    "#!/usr/bin/env python\n",
    "# -*- coding: utf-8 -*-\n",
    "\n",
    "import sys\n",
    "\n",
    "class ReprMixin(object):\n",
    "    ''' オブジェクトのアトリビュートを整形して表示するためのミックスインクラス (デバッグ用) '''\n",
    "\n",
    "    def __repr__(self):\n",
    "        attr_list = ['%s=%s' % (k, v) for k, v in self.__dict__.items()]\n",
    "        return '%s(%s)' % (self.__class__.__name__, ', '.join(attr_list))\n",
    "\n",
    "\n",
    "class CostCompareMixin(object):\n",
    "    ''' \"cost\" アトリビュートを元にオブジェクトの大小を比較するためのミックスインクラス '''\n",
    "\n",
    "    def __cmp__(self, other):\n",
    "        return self.cost - other.cost\n",
    "\n",
    "\n",
    "class Node(ReprMixin, CostCompareMixin):\n",
    "    ''' グラフのノード '''\n",
    "\n",
    "    def __init__(self, name, edges=None, cost):\n",
    "        # ノードの名前\n",
    "        self.name = name\n",
    "        # ノードに紐付いたエッジ\n",
    "        self.edges = edges or []\n",
    "        # ノードが処理済みかを示すフラグ\n",
    "        self.done = False\n",
    "        # ノードに至るまでに必要な最短経路のコスト\n",
    "        self.cost = cost\n",
    "        # ノードに至るまでの最短経路を構成する近接したノード\n",
    "        self.prev_node = None\n",
    "\n",
    "    def trace(self):\n",
    "        ''' 自身から逆方向にノードを辿ってリストにする '''\n",
    "        node = self\n",
    "        route = [node]\n",
    "        while node.prev_node:\n",
    "            route.append(node.prev_node)\n",
    "            node = node.prev_node\n",
    "        return route\n",
    "\n",
    "\n",
    "class Edge(ReprMixin):\n",
    "    ''' グラフのエッジ '''\n",
    "\n",
    "    def __init__(self, dst_node, cost):\n",
    "        # エッジの宛先ノード\n",
    "        self.dst_node = dst_node\n",
    "        # エッジのコスト\n",
    "        self.cost = cost\n",
    "\n",
    "\n",
    "class DirectedGraph(object):\n",
    "    ''' 有向グラフ '''\n",
    "\n",
    "    def __init__(self, mappings):\n",
    "        self.mappings = mappings\n",
    "\n",
    "    def shortest_path(self, node_name):\n",
    "        ''' 開始ノードから指定したノードへの最短経路を取得する '''\n",
    "        node = self.mappings.get(node_name)\n",
    "        trace_list = node.trace()\n",
    "        # 反転させることで最初の要素を開始ノードにする\n",
    "        trace_list.reverse()\n",
    "        return trace_list\n",
    "\n",
    "    @classmethod\n",
    "    def build(cls, graph_data):\n",
    "        '''\n",
    "        有効グラフを構成するデータから有効グラフオブジェクトを生成するためのファクトリメソッド\n",
    "        グラフデータはシーケンスで、各エントリは 3 要素のタプルから成る\n",
    "        エントリ: (遷移元ノード名, 遷移先ノード名, 遷移コスト)\n",
    "        '''\n",
    "        mappings = {}\n",
    "        # グラフデータの各エントリを処理する\n",
    "        for src_node_name, dst_node_name, edge_cost in graph_data:\n",
    "\n",
    "            # 遷移元ノード、遷移先ノードを取得する\n",
    "            src_node = cls._get_node(src_node_name, mappings)\n",
    "            dst_node = cls._get_node(dst_node_name, mappings)\n",
    "\n",
    "            # ノードをエッジで結ぶ\n",
    "            edge = Edge(dst_node, edge_cost)\n",
    "            src_node.edges.append(edge)\n",
    "\n",
    "        # ノードとエッジから成る有向グラフを返す\n",
    "        return DirectedGraph(mappings)\n",
    "\n",
    "    @classmethod\n",
    "    def _get_node(cls, name, mappings):\n",
    "        ''' 既知のノードであれば取得、そうでなければ新たに作る '''\n",
    "        node = mappings.get(name)\n",
    "        if not node:\n",
    "            node = Node(name)\n",
    "            mappings[name] = node\n",
    "        return node\n",
    "\n",
    "\n",
    "class Dijkstra(object):\n",
    "    ''' ダイクストラ法の実装 '''\n",
    "\n",
    "    @classmethod\n",
    "    def process(cls, graph, start_node_name):\n",
    "        ''' ダイクストラ法で開始ノードからの最短経路を探索するメソッド '''\n",
    "\n",
    "        # 開始ノードの遷移コストを 0 に初期化する\n",
    "        start_node = graph.mappings.get(start_node_name)\n",
    "        start_node.cost = 0\n",
    "\n",
    "        while True:\n",
    "            # 未処理のノードの中からコストが最小のものを選び出す\n",
    "            node = cls._extract_unsettled_minimum_node(graph)\n",
    "            if not node:\n",
    "                # 未処理のノードが無くなったら抜ける\n",
    "                break\n",
    "            # ノードを処理する\n",
    "            cls._process_node(node)\n",
    "\n",
    "    @classmethod\n",
    "    def _extract_unsettled_minimum_node(cls, graph):\n",
    "        # グラフから未処理のノードを取り出す\n",
    "        unsettled_nodes = [\n",
    "            node for node in graph.mappings.values() if not node.done\n",
    "        ]\n",
    "        # 最小コストのものを選んで返す\n",
    "        return min(unsettled_nodes) if unsettled_nodes else None\n",
    "\n",
    "    @classmethod\n",
    "    def _process_node(cls, node):\n",
    "        ''' ノードを処理する '''\n",
    "\n",
    "        # ノードを処理済みにする\n",
    "        node.done = True\n",
    "\n",
    "        # ノードが持つ処理対象のエッジと宛先ノードを取り出す (処理済みのノードは除外する)\n",
    "        edge_and_nodes = [\n",
    "            (edge, edge.dst_node) for edge in node.edges\n",
    "            if not edge.dst_node.done\n",
    "        ]\n",
    "\n",
    "        # 処理対象のエッジ、宛先ノードを走査する\n",
    "        for edge, dst_node in edge_and_nodes:\n",
    "\n",
    "            # 今処理中のエッジを通って宛先ノードに至るまでのコストと、\n",
    "            # 宛先ノードに現在設定されているコストを比較する\n",
    "            current_path_cost = node.cost + edge.cost\n",
    "            if current_path_cost < dst_node.cost:\n",
    "\n",
    "                # 処理中のパスの方が短ければ、そちらを使う\n",
    "                dst_node.cost = current_path_cost\n",
    "\n",
    "                # 宛先ノードの遷移元ノードを、現在処理中のノードに変更する\n",
    "                dst_node.prev_node = node\n",
    "\n",
    "\n",
    "if __name__ == '__main__':\n",
    "    # グラフを生成する\n",
    "    graph = DirectedGraph.build([\n",
    "        ('s', 'a', 2),\n",
    "        ('s', 'b', 5),\n",
    "        ('a', 'b', 2),\n",
    "        ('a', 'c', 5),\n",
    "        ('b', 'c', 4),\n",
    "        ('b', 'd', 2),\n",
    "        ('c', 'z', 7),\n",
    "        ('d', 'c', 5),\n",
    "        ('d', 'z', 2),\n",
    "    ])\n",
    "\n",
    "    # ノード 's' から各ノードへの最短経路を探索する\n",
    "    Dijkstra.process(graph, 's')\n",
    "\n",
    "    # ノード 'z' への最短経路を取り出す\n",
    "    route = [(node.name, node.cost) for node in graph.shortest_path('z')]\n",
    "\n",
    "    # 最短経路を表示する\n",
    "    print('Route: %s' % route)"
   ]
  },
  {
   "cell_type": "code",
   "execution_count": null,
   "metadata": {},
   "outputs": [],
   "source": []
  }
 ],
 "metadata": {
  "kernelspec": {
   "display_name": "Python 3",
   "language": "python",
   "name": "python3"
  },
  "language_info": {
   "codemirror_mode": {
    "name": "ipython",
    "version": 3
   },
   "file_extension": ".py",
   "mimetype": "text/x-python",
   "name": "python",
   "nbconvert_exporter": "python",
   "pygments_lexer": "ipython3",
   "version": "3.5.4"
  }
 },
 "nbformat": 4,
 "nbformat_minor": 2
}
