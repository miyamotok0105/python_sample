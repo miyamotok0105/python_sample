{
 "cells": [
  {
   "cell_type": "code",
   "execution_count": null,
   "metadata": {},
   "outputs": [],
   "source": [
    "#Arturo Herrero\n",
    "#Closure Design Patterns\n",
    "#https://arturoherrero.com/closure-design-patterns/"
   ]
  },
  {
   "cell_type": "markdown",
   "metadata": {},
   "source": [
    "# Execute Around Method\n",
    "\n",
    "操作の前後で実行する必要がある場合の操作ペア\n"
   ]
  },
  {
   "cell_type": "code",
   "execution_count": 17,
   "metadata": {},
   "outputs": [
    {
     "name": "stdout",
     "output_type": "stream",
     "text": [
      "Open\n",
      "Operation!!\n",
      "Close\n"
     ]
    }
   ],
   "source": [
    "def operations(closure):\n",
    "    print(\"Open\")\n",
    "    closure(\"Operation!!\")\n",
    "    print(\"Close\")\n",
    "\n",
    "operations(print)"
   ]
  },
  {
   "cell_type": "code",
   "execution_count": 18,
   "metadata": {},
   "outputs": [
    {
     "name": "stdout",
     "output_type": "stream",
     "text": [
      "Open\n",
      "Operation!!\n",
      "Close\n"
     ]
    }
   ],
   "source": [
    "def print_func():\n",
    "    print(\"Operation!!\")\n",
    "\n",
    "def operations(closure):\n",
    "    print(\"Open\")\n",
    "    closure()\n",
    "    print(\"Close\")\n",
    "\n",
    "operations(print_func)"
   ]
  },
  {
   "cell_type": "markdown",
   "metadata": {},
   "source": [
    "# Pluggable Behavior\n",
    "\n",
    "実行時にオブジェクトの動作を指定します。"
   ]
  },
  {
   "cell_type": "code",
   "execution_count": null,
   "metadata": {},
   "outputs": [],
   "source": [
    "def print_func():\n",
    "    print(\"Operation!!\")\n",
    "\n",
    "def select_values(number, closure):\n",
    "    l = []\n",
    "    \n",
    "    closure()\n",
    "    print(\"Close\")\n",
    "\n",
    "operations(print_func)"
   ]
  }
 ],
 "metadata": {
  "kernelspec": {
   "display_name": "Python 3",
   "language": "python",
   "name": "python3"
  },
  "language_info": {
   "codemirror_mode": {
    "name": "ipython",
    "version": 3
   },
   "file_extension": ".py",
   "mimetype": "text/x-python",
   "name": "python",
   "nbconvert_exporter": "python",
   "pygments_lexer": "ipython3",
   "version": "3.5.5"
  }
 },
 "nbformat": 4,
 "nbformat_minor": 2
}
