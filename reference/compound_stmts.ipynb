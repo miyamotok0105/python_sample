{
 "cells": [
  {
   "cell_type": "markdown",
   "metadata": {},
   "source": [
    "# 3.3.8. with文とコンテキストマネージャ"
   ]
  },
  {
   "cell_type": "markdown",
   "metadata": {},
   "source": [
    ">コンテキストマネージャ(context manager) とは、 with 文の実行時にランタイムコンテキストを定義するオブジェクト\n",
    "\n",
    "なのでコンテキスト自体がwithを使う必要あり"
   ]
  },
  {
   "cell_type": "code",
   "execution_count": 17,
   "metadata": {},
   "outputs": [],
   "source": [
    "class A():\n",
    "    def __enter__(self):\n",
    "        print(\"A __enter__\")\n",
    "    def __exit__(self, exc_type, exc_value, traceback):\n",
    "        print(\"A __exit__\")\n",
    "\n",
    "class B():\n",
    "    def __enter__(self):\n",
    "        print(\"B __enter__\")\n",
    "    def __exit__(self, exc_type, exc_value, traceback):\n",
    "        print(\"B __exit__\")"
   ]
  },
  {
   "cell_type": "code",
   "execution_count": 18,
   "metadata": {},
   "outputs": [
    {
     "name": "stdout",
     "output_type": "stream",
     "text": [
      "A __enter__\n",
      "B __enter__\n",
      "B __exit__\n",
      "A __exit__\n"
     ]
    }
   ],
   "source": [
    "#__enter__はコンテキストマネージャのの入り口で実行される処理\n",
    "#__exit__はコンテキストマネージャの出口で実行される処理\n",
    "with A() as a, B() as b:\n",
    "    pass"
   ]
  },
  {
   "cell_type": "code",
   "execution_count": 21,
   "metadata": {},
   "outputs": [
    {
     "data": {
      "text/plain": [
       "<__main__.A at 0x1094ef3c8>"
      ]
     },
     "execution_count": 21,
     "metadata": {},
     "output_type": "execute_result"
    }
   ],
   "source": [
    "a = A()\n",
    "a"
   ]
  },
  {
   "cell_type": "code",
   "execution_count": 22,
   "metadata": {},
   "outputs": [
    {
     "name": "stdout",
     "output_type": "stream",
     "text": [
      "A __enter__\n"
     ]
    }
   ],
   "source": [
    "a.__enter__()"
   ]
  },
  {
   "cell_type": "code",
   "execution_count": 23,
   "metadata": {},
   "outputs": [
    {
     "ename": "TypeError",
     "evalue": "__exit__() missing 3 required positional arguments: 'exc_type', 'exc_value', and 'traceback'",
     "output_type": "error",
     "traceback": [
      "\u001b[0;31m---------------------------------------------------------------------------\u001b[0m",
      "\u001b[0;31mTypeError\u001b[0m                                 Traceback (most recent call last)",
      "\u001b[0;32m<ipython-input-23-105a96eb685c>\u001b[0m in \u001b[0;36m<module>\u001b[0;34m()\u001b[0m\n\u001b[0;32m----> 1\u001b[0;31m \u001b[0ma\u001b[0m\u001b[0;34m.\u001b[0m\u001b[0m__exit__\u001b[0m\u001b[0;34m(\u001b[0m\u001b[0;34m)\u001b[0m\u001b[0;34m\u001b[0m\u001b[0m\n\u001b[0m",
      "\u001b[0;31mTypeError\u001b[0m: __exit__() missing 3 required positional arguments: 'exc_type', 'exc_value', and 'traceback'"
     ]
    }
   ],
   "source": [
    "a.__exit__()"
   ]
  },
  {
   "cell_type": "code",
   "execution_count": null,
   "metadata": {},
   "outputs": [],
   "source": []
  }
 ],
 "metadata": {
  "kernelspec": {
   "display_name": "Python 3",
   "language": "python",
   "name": "python3"
  },
  "language_info": {
   "codemirror_mode": {
    "name": "ipython",
    "version": 3
   },
   "file_extension": ".py",
   "mimetype": "text/x-python",
   "name": "python",
   "nbconvert_exporter": "python",
   "pygments_lexer": "ipython3",
   "version": "3.5.5"
  }
 },
 "nbformat": 4,
 "nbformat_minor": 2
}
