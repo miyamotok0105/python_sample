{
 "cells": [
  {
   "cell_type": "code",
   "execution_count": 1,
   "metadata": {},
   "outputs": [],
   "source": [
    "#https://docs.python.jp/3/tutorial/"
   ]
  },
  {
   "cell_type": "markdown",
   "metadata": {},
   "source": [
    "# 2. Python インタプリタを使う"
   ]
  },
  {
   "cell_type": "markdown",
   "metadata": {},
   "source": [
    "# 3. 形式ばらない Python の紹介"
   ]
  },
  {
   "cell_type": "markdown",
   "metadata": {},
   "source": [
    "変数が \"定義\" されて (つまり値が代入されて) いない場合、その変数を使おうとするとエラーが発生します:"
   ]
  },
  {
   "cell_type": "code",
   "execution_count": 2,
   "metadata": {},
   "outputs": [
    {
     "ename": "NameError",
     "evalue": "name 'n' is not defined",
     "output_type": "error",
     "traceback": [
      "\u001b[0;31m---------------------------------------------------------------------------\u001b[0m",
      "\u001b[0;31mNameError\u001b[0m                                 Traceback (most recent call last)",
      "\u001b[0;32m<ipython-input-2-ab0680a89434>\u001b[0m in \u001b[0;36m<module>\u001b[0;34m()\u001b[0m\n\u001b[0;32m----> 1\u001b[0;31m \u001b[0mn\u001b[0m\u001b[0;34m\u001b[0m\u001b[0m\n\u001b[0m",
      "\u001b[0;31mNameError\u001b[0m: name 'n' is not defined"
     ]
    }
   ],
   "source": [
    "n"
   ]
  },
  {
   "cell_type": "code",
   "execution_count": 3,
   "metadata": {},
   "outputs": [
    {
     "name": "stdout",
     "output_type": "stream",
     "text": [
      "Usage: thingy [OPTIONS]\n",
      "     -h                        Display this usage message\n",
      "     -H hostname               Hostname to connect to\n",
      "\n"
     ]
    }
   ],
   "source": [
    "print(\"\"\"\\\n",
    "Usage: thingy [OPTIONS]\n",
    "     -h                        Display this usage message\n",
    "     -H hostname               Hostname to connect to\n",
    "\"\"\")\n"
   ]
  },
  {
   "cell_type": "code",
   "execution_count": 5,
   "metadata": {},
   "outputs": [
    {
     "data": {
      "text/plain": [
       "'un!un!un!ium'"
      ]
     },
     "execution_count": 5,
     "metadata": {},
     "output_type": "execute_result"
    }
   ],
   "source": [
    "3 * 'un!' + 'ium'"
   ]
  },
  {
   "cell_type": "code",
   "execution_count": 6,
   "metadata": {},
   "outputs": [
    {
     "data": {
      "text/plain": [
       "'Python'"
      ]
     },
     "execution_count": 6,
     "metadata": {},
     "output_type": "execute_result"
    }
   ],
   "source": [
    "'Py' 'thon'"
   ]
  },
  {
   "cell_type": "markdown",
   "metadata": {},
   "source": [
    "これは 2 つのリテラルどうしに対してのみ働き、変数や式には働きません:"
   ]
  },
  {
   "cell_type": "code",
   "execution_count": 7,
   "metadata": {},
   "outputs": [
    {
     "ename": "SyntaxError",
     "evalue": "invalid syntax (<ipython-input-7-779914c62160>, line 2)",
     "output_type": "error",
     "traceback": [
      "\u001b[0;36m  File \u001b[0;32m\"<ipython-input-7-779914c62160>\"\u001b[0;36m, line \u001b[0;32m2\u001b[0m\n\u001b[0;31m    prefix 'thon'\u001b[0m\n\u001b[0m                ^\u001b[0m\n\u001b[0;31mSyntaxError\u001b[0m\u001b[0;31m:\u001b[0m invalid syntax\n"
     ]
    }
   ],
   "source": [
    "prefix = 'Py'\n",
    "prefix 'thon'"
   ]
  },
  {
   "cell_type": "code",
   "execution_count": 8,
   "metadata": {},
   "outputs": [
    {
     "data": {
      "text/plain": [
       "'P'"
      ]
     },
     "execution_count": 8,
     "metadata": {},
     "output_type": "execute_result"
    }
   ],
   "source": [
    "word = 'Python'\n",
    "word[0]"
   ]
  },
  {
   "cell_type": "markdown",
   "metadata": {},
   "source": [
    "大き過ぎるインデクスを使おうとするとエラーが発生します:"
   ]
  },
  {
   "cell_type": "code",
   "execution_count": 9,
   "metadata": {},
   "outputs": [
    {
     "ename": "IndexError",
     "evalue": "string index out of range",
     "output_type": "error",
     "traceback": [
      "\u001b[0;31m---------------------------------------------------------------------------\u001b[0m",
      "\u001b[0;31mIndexError\u001b[0m                                Traceback (most recent call last)",
      "\u001b[0;32m<ipython-input-9-469c6d99b5b2>\u001b[0m in \u001b[0;36m<module>\u001b[0;34m()\u001b[0m\n\u001b[0;32m----> 1\u001b[0;31m \u001b[0mword\u001b[0m\u001b[0;34m[\u001b[0m\u001b[0;36m42\u001b[0m\u001b[0;34m]\u001b[0m  \u001b[0;31m# the word only has 6 characters\u001b[0m\u001b[0;34m\u001b[0m\u001b[0m\n\u001b[0m",
      "\u001b[0;31mIndexError\u001b[0m: string index out of range"
     ]
    }
   ],
   "source": [
    "word[42]  # the word only has 6 characters"
   ]
  },
  {
   "cell_type": "markdown",
   "metadata": {},
   "source": [
    "しかし、スライスで範囲外のインデクスを使ったときは上手く対応して扱ってくれます:"
   ]
  },
  {
   "cell_type": "code",
   "execution_count": 10,
   "metadata": {},
   "outputs": [
    {
     "data": {
      "text/plain": [
       "'on'"
      ]
     },
     "execution_count": 10,
     "metadata": {},
     "output_type": "execute_result"
    }
   ],
   "source": [
    "word[4:42]"
   ]
  },
  {
   "cell_type": "markdown",
   "metadata": {},
   "source": [
    "Python の文字列は変更できません – つまり不変 (immutable) なのです。従って、文字列のインデクスで指定したある場所に代入を行うとエラーが発生します:"
   ]
  },
  {
   "cell_type": "code",
   "execution_count": 11,
   "metadata": {},
   "outputs": [
    {
     "ename": "TypeError",
     "evalue": "'str' object does not support item assignment",
     "output_type": "error",
     "traceback": [
      "\u001b[0;31m---------------------------------------------------------------------------\u001b[0m",
      "\u001b[0;31mTypeError\u001b[0m                                 Traceback (most recent call last)",
      "\u001b[0;32m<ipython-input-11-91a956888ca7>\u001b[0m in \u001b[0;36m<module>\u001b[0;34m()\u001b[0m\n\u001b[0;32m----> 1\u001b[0;31m \u001b[0mword\u001b[0m\u001b[0;34m[\u001b[0m\u001b[0;36m0\u001b[0m\u001b[0;34m]\u001b[0m \u001b[0;34m=\u001b[0m \u001b[0;34m'J'\u001b[0m\u001b[0;34m\u001b[0m\u001b[0m\n\u001b[0m",
      "\u001b[0;31mTypeError\u001b[0m: 'str' object does not support item assignment"
     ]
    }
   ],
   "source": [
    "word[0] = 'J'"
   ]
  },
  {
   "cell_type": "markdown",
   "metadata": {},
   "source": [
    "# 4. その他の制御フローツール"
   ]
  },
  {
   "cell_type": "markdown",
   "metadata": {},
   "source": [
    "ループ内部でイテレートしているシーケンスを修正する必要があれば (例えば選択されたアイテムを複製するために)、最初にコピーを作ることをお勧めします。シーケンスに対するイテレーションは暗黙にコピーを作りません。スライス記法はこれを特に便利にします:"
   ]
  },
  {
   "cell_type": "markdown",
   "metadata": {},
   "source": [
    "for w in words: を使った場合は、この例は defenestrate を何度も繰り返し挿入することで、無限リストを作成しようとします。"
   ]
  },
  {
   "cell_type": "code",
   "execution_count": 14,
   "metadata": {},
   "outputs": [
    {
     "data": {
      "text/plain": [
       "['defenestrate', 'cat', 'window', 'defenestrate']"
      ]
     },
     "execution_count": 14,
     "metadata": {},
     "output_type": "execute_result"
    }
   ],
   "source": [
    "words = ['cat', 'window', 'defenestrate']\n",
    "for w in words[:]:  # Loop over a slice copy of the entire list.\n",
    "    if len(w) > 6:\n",
    "        words.insert(0, w)\n",
    "words"
   ]
  },
  {
   "cell_type": "code",
   "execution_count": 15,
   "metadata": {},
   "outputs": [
    {
     "data": {
      "text/plain": [
       "[(0, 'defenestrate'), (1, 'cat'), (2, 'window'), (3, 'defenestrate')]"
      ]
     },
     "execution_count": 15,
     "metadata": {},
     "output_type": "execute_result"
    }
   ],
   "source": [
    "list(enumerate(words))"
   ]
  },
  {
   "cell_type": "code",
   "execution_count": 17,
   "metadata": {},
   "outputs": [
    {
     "name": "stdout",
     "output_type": "stream",
     "text": [
      "defenestrate\n",
      "cat\n",
      "window\n",
      "defenestrate\n"
     ]
    }
   ],
   "source": [
    "for (index, val) in enumerate(words):\n",
    "    print(val)"
   ]
  },
  {
   "cell_type": "markdown",
   "metadata": {},
   "source": [
    "pass 文は何もしません。 pass は、文を書くことが構文上要求されているが、プログラム上何の動作もする必要がない時に使われます:    \n",
    "これは最小のクラスを作るときによく使われる方法です:"
   ]
  },
  {
   "cell_type": "code",
   "execution_count": 1,
   "metadata": {},
   "outputs": [],
   "source": [
    "class MyEmptyClass:\n",
    "    pass"
   ]
  },
  {
   "cell_type": "markdown",
   "metadata": {},
   "source": [
    "重要な警告: デフォルト値は 1 度だけしか評価されません。デフォルト値がリストや辞書のような変更可能なオブジェクトの時にはその影響がでます。例えば以下の関数は、後に続く関数呼び出しで関数に渡されている引数を累積します:"
   ]
  },
  {
   "cell_type": "code",
   "execution_count": 2,
   "metadata": {},
   "outputs": [],
   "source": [
    "def f(a, L=[]):\n",
    "    L.append(a)\n",
    "    return L"
   ]
  },
  {
   "cell_type": "code",
   "execution_count": 3,
   "metadata": {},
   "outputs": [
    {
     "name": "stdout",
     "output_type": "stream",
     "text": [
      "[1]\n",
      "[1, 2]\n",
      "[1, 2, 3]\n"
     ]
    }
   ],
   "source": [
    "print(f(1))\n",
    "print(f(2))\n",
    "print(f(3))"
   ]
  },
  {
   "cell_type": "markdown",
   "metadata": {},
   "source": [
    "後続の関数呼び出しでデフォルト値を共有したくなければ、代わりに以下のように関数を書くことができます:"
   ]
  },
  {
   "cell_type": "code",
   "execution_count": 4,
   "metadata": {},
   "outputs": [],
   "source": [
    "def f(a, L=None):\n",
    "    if L is None:\n",
    "        L = []\n",
    "    L.append(a)\n",
    "    return L"
   ]
  },
  {
   "cell_type": "code",
   "execution_count": 5,
   "metadata": {},
   "outputs": [
    {
     "name": "stdout",
     "output_type": "stream",
     "text": [
      "[1]\n",
      "[2]\n",
      "[3]\n"
     ]
    }
   ],
   "source": [
    "print(f(1))\n",
    "print(f(2))\n",
    "print(f(3))"
   ]
  },
  {
   "cell_type": "markdown",
   "metadata": {},
   "source": [
    "# 8. エラーと例外"
   ]
  },
  {
   "cell_type": "markdown",
   "metadata": {},
   "source": [
    "エラーには (少なくとも) 二つのはっきり異なる種類があります。それは 構文エラー (syntax error) と 例外 (exception) です。\n",
    "\n"
   ]
  },
  {
   "cell_type": "markdown",
   "metadata": {},
   "source": [
    "8.1. 構文エラー"
   ]
  },
  {
   "cell_type": "markdown",
   "metadata": {},
   "source": [
    "構文エラーは構文解析エラー (parsing error) としても知られており、Python を勉強している間に最もよく遭遇する問題の一つでしょう"
   ]
  },
  {
   "cell_type": "code",
   "execution_count": 12,
   "metadata": {},
   "outputs": [
    {
     "ename": "SyntaxError",
     "evalue": "invalid syntax (<ipython-input-12-2b688bc740d7>, line 1)",
     "output_type": "error",
     "traceback": [
      "\u001b[0;36m  File \u001b[0;32m\"<ipython-input-12-2b688bc740d7>\"\u001b[0;36m, line \u001b[0;32m1\u001b[0m\n\u001b[0;31m    while True print('Hello world')\u001b[0m\n\u001b[0m                   ^\u001b[0m\n\u001b[0;31mSyntaxError\u001b[0m\u001b[0;31m:\u001b[0m invalid syntax\n"
     ]
    }
   ],
   "source": [
    "while True print('Hello world')"
   ]
  },
  {
   "cell_type": "markdown",
   "metadata": {},
   "source": [
    "パーサは違反の起きている行を表示し、小さな「矢印」を表示して、行中でエラーが検出された最初の位置を示します。エラーは矢印の 直前の トークンでひき起こされています (または、少なくともそこで検出されています)。上記の例では、エラーは関数 print() で検出されています。コロン (':') がその前に無いからです。入力がスクリプトから来ている場合は、どこを見ればよいか分かるようにファイル名と行番号が出力されます。\n",
    "\n"
   ]
  },
  {
   "cell_type": "markdown",
   "metadata": {},
   "source": [
    "8.2. 例外"
   ]
  },
  {
   "cell_type": "markdown",
   "metadata": {},
   "source": [
    "たとえ文や式が構文的に正しくても、実行しようとしたときにエラーが発生するかもしれません。実行中に検出されたエラーは 例外 (exception) と呼ばれ、常に致命的とは限りません。これから、Python プログラムで例外をどのように扱うかを学んでいきます。ほとんどの例外はプログラムで処理されず、以下に示されるようなメッセージになります:"
   ]
  },
  {
   "cell_type": "code",
   "execution_count": 13,
   "metadata": {},
   "outputs": [
    {
     "ename": "ZeroDivisionError",
     "evalue": "division by zero",
     "output_type": "error",
     "traceback": [
      "\u001b[0;31m---------------------------------------------------------------------------\u001b[0m",
      "\u001b[0;31mZeroDivisionError\u001b[0m                         Traceback (most recent call last)",
      "\u001b[0;32m<ipython-input-13-0b280f36835c>\u001b[0m in \u001b[0;36m<module>\u001b[0;34m()\u001b[0m\n\u001b[0;32m----> 1\u001b[0;31m \u001b[0;36m10\u001b[0m \u001b[0;34m*\u001b[0m \u001b[0;34m(\u001b[0m\u001b[0;36m1\u001b[0m\u001b[0;34m/\u001b[0m\u001b[0;36m0\u001b[0m\u001b[0;34m)\u001b[0m\u001b[0;34m\u001b[0m\u001b[0m\n\u001b[0m",
      "\u001b[0;31mZeroDivisionError\u001b[0m: division by zero"
     ]
    }
   ],
   "source": [
    "10 * (1/0)"
   ]
  },
  {
   "cell_type": "code",
   "execution_count": 14,
   "metadata": {},
   "outputs": [
    {
     "ename": "NameError",
     "evalue": "name 'spam' is not defined",
     "output_type": "error",
     "traceback": [
      "\u001b[0;31m---------------------------------------------------------------------------\u001b[0m",
      "\u001b[0;31mNameError\u001b[0m                                 Traceback (most recent call last)",
      "\u001b[0;32m<ipython-input-14-c98bb92cdcac>\u001b[0m in \u001b[0;36m<module>\u001b[0;34m()\u001b[0m\n\u001b[0;32m----> 1\u001b[0;31m \u001b[0;36m4\u001b[0m \u001b[0;34m+\u001b[0m \u001b[0mspam\u001b[0m\u001b[0;34m*\u001b[0m\u001b[0;36m3\u001b[0m\u001b[0;34m\u001b[0m\u001b[0m\n\u001b[0m",
      "\u001b[0;31mNameError\u001b[0m: name 'spam' is not defined"
     ]
    }
   ],
   "source": [
    "4 + spam*3"
   ]
  },
  {
   "cell_type": "code",
   "execution_count": 15,
   "metadata": {},
   "outputs": [
    {
     "ename": "TypeError",
     "evalue": "Can't convert 'int' object to str implicitly",
     "output_type": "error",
     "traceback": [
      "\u001b[0;31m---------------------------------------------------------------------------\u001b[0m",
      "\u001b[0;31mTypeError\u001b[0m                                 Traceback (most recent call last)",
      "\u001b[0;32m<ipython-input-15-d2b23a1db757>\u001b[0m in \u001b[0;36m<module>\u001b[0;34m()\u001b[0m\n\u001b[0;32m----> 1\u001b[0;31m \u001b[0;34m'2'\u001b[0m \u001b[0;34m+\u001b[0m \u001b[0;36m2\u001b[0m\u001b[0;34m\u001b[0m\u001b[0m\n\u001b[0m",
      "\u001b[0;31mTypeError\u001b[0m: Can't convert 'int' object to str implicitly"
     ]
    }
   ],
   "source": [
    "'2' + 2"
   ]
  },
  {
   "cell_type": "markdown",
   "metadata": {},
   "source": [
    "エラーメッセージの最終行は何が起こったかを示しています。例外は様々な型 (type) で起こり、その型がエラーメッセージの一部として出力されます。上の例での型は ZeroDivisionError, NameError, TypeError です。例外型として出力される文字列は、発生した例外の組み込み名です。これは全ての組み込み例外について成り立ちますが、ユーザ定義の例外では (成り立つようにするのは有意義な慣習ですが) 必ずしも成り立ちません。標準例外の名前は組み込みの識別子です (予約語ではありません)。\n",
    "\n",
    "残りの行は例外の詳細で、その例外の型と何が起きたかに依存します。\n",
    "\n",
    "エラーメッセージの先頭部分では、例外が発生した実行コンテキスト (context) を、スタックのトレースバック (stack traceback) の形式で示しています。一般には、この部分にはソースコード行をリストしたトレースバックが表示されます。しかし、標準入力から読み取られたコードは表示されません。"
   ]
  },
  {
   "cell_type": "markdown",
   "metadata": {},
   "source": [
    "8.3. 例外を処理する"
   ]
  },
  {
   "cell_type": "markdown",
   "metadata": {},
   "source": [
    "例外を選別して処理するようなプログラムを書くことができます。以下の例を見てください。この例では、有効な文字列が入力されるまでユーザに入力を促しますが、ユーザがプログラムに (Control-C か、またはオペレーティングシステムがサポートしている何らかのキーを使って) 割り込みをかけてプログラムを中断させることができるようにしています。ユーザが生成した割り込みは、 KeyboardInterrupt 例外が送出されることで通知されるということに注意してください。\n"
   ]
  },
  {
   "cell_type": "code",
   "execution_count": 2,
   "metadata": {},
   "outputs": [],
   "source": [
    "temp = 1\n",
    "try:\n",
    "    x = int(temp)\n",
    "except ValueError:\n",
    "    print(\"Oops!  That was no valid number.  Try again...\")"
   ]
  },
  {
   "cell_type": "code",
   "execution_count": 7,
   "metadata": {},
   "outputs": [
    {
     "name": "stdout",
     "output_type": "stream",
     "text": [
      "Oops!  That was no valid number.  Try again...\n"
     ]
    }
   ],
   "source": [
    "temp = \"\"\n",
    "try:\n",
    "    x = int(temp)\n",
    "except ValueError:\n",
    "    print(\"Oops!  That was no valid number.  Try again...\")"
   ]
  },
  {
   "cell_type": "code",
   "execution_count": 8,
   "metadata": {},
   "outputs": [
    {
     "name": "stdout",
     "output_type": "stream",
     "text": [
      "invalid literal for int() with base 10: ''\n"
     ]
    }
   ],
   "source": [
    "temp = \"\"\n",
    "try:\n",
    "    x = int(temp)\n",
    "except ValueError as ex:\n",
    "    print(ex)"
   ]
  },
  {
   "cell_type": "code",
   "execution_count": 9,
   "metadata": {},
   "outputs": [
    {
     "name": "stdout",
     "output_type": "stream",
     "text": [
      "invalid literal for int() with base 10: ''\n"
     ]
    }
   ],
   "source": [
    "temp = \"\"\n",
    "try:\n",
    "    x = int(temp)\n",
    "except Exception as ex:\n",
    "    print(ex)"
   ]
  },
  {
   "cell_type": "code",
   "execution_count": 4,
   "metadata": {},
   "outputs": [],
   "source": [
    "class B(Exception):\n",
    "    pass\n",
    "\n",
    "class C(B):\n",
    "    pass\n",
    "\n",
    "class D(C):\n",
    "    pass"
   ]
  },
  {
   "cell_type": "code",
   "execution_count": 5,
   "metadata": {},
   "outputs": [
    {
     "name": "stdout",
     "output_type": "stream",
     "text": [
      "B\n",
      "C\n",
      "D\n"
     ]
    }
   ],
   "source": [
    "for cls in [B, C, D]:\n",
    "    try:\n",
    "        raise cls()\n",
    "    except D:\n",
    "        print(\"D\")\n",
    "    except C:\n",
    "        print(\"C\")\n",
    "    except B:\n",
    "        print(\"B\")"
   ]
  },
  {
   "cell_type": "markdown",
   "metadata": {},
   "source": [
    "# 9. クラス"
   ]
  },
  {
   "cell_type": "markdown",
   "metadata": {},
   "source": [
    "# 9.2.1. スコープと名前空間の例"
   ]
  },
  {
   "cell_type": "markdown",
   "metadata": {},
   "source": [
    "異なるスコープと名前空間がどのように参照されるか、また global および nonlocal が変数の束縛にどう影響するか、この例で実演します:"
   ]
  },
  {
   "cell_type": "code",
   "execution_count": 10,
   "metadata": {},
   "outputs": [],
   "source": [
    "def scope_test():\n",
    "    def do_local():\n",
    "        spam = \"local spam\"\n",
    "\n",
    "    def do_nonlocal():\n",
    "        nonlocal spam\n",
    "        spam = \"nonlocal spam\"\n",
    "\n",
    "    def do_global():\n",
    "        global spam\n",
    "        spam = \"global spam\"\n",
    "\n",
    "    spam = \"test spam\"\n",
    "    do_local()\n",
    "    print(\"After local assignment:\", spam)\n",
    "    do_nonlocal()\n",
    "    print(\"After nonlocal assignment:\", spam)\n",
    "    do_global()\n",
    "    print(\"After global assignment:\", spam)"
   ]
  },
  {
   "cell_type": "code",
   "execution_count": 11,
   "metadata": {},
   "outputs": [
    {
     "name": "stdout",
     "output_type": "stream",
     "text": [
      "After local assignment: test spam\n",
      "After nonlocal assignment: nonlocal spam\n",
      "After global assignment: nonlocal spam\n",
      "In global scope: global spam\n"
     ]
    }
   ],
   "source": [
    "scope_test()\n",
    "print(\"In global scope:\", spam)"
   ]
  },
  {
   "cell_type": "markdown",
   "metadata": {},
   "source": [
    "このとおり、(デフォルトの) ローカルな 代入は scope_test 上の spam への束縛を変更しませんでした。 nonlocal 代入は scope_test 上の spam への束縛を変更し、 global 代入はモジュールレベルの束縛を変更しました。\n",
    "\n",
    "またここから、 global 代入の前には spam に何も束縛されていなかったことも分かります。"
   ]
  },
  {
   "cell_type": "code",
   "execution_count": 23,
   "metadata": {},
   "outputs": [],
   "source": [
    "class ClassName1:\n",
    "    i = 1\n",
    "    def m1():\n",
    "        return \"m1\"\n",
    "    def m2():\n",
    "        return \"m2\""
   ]
  },
  {
   "cell_type": "code",
   "execution_count": 25,
   "metadata": {},
   "outputs": [
    {
     "data": {
      "text/plain": [
       "'m1'"
      ]
     },
     "execution_count": 25,
     "metadata": {},
     "output_type": "execute_result"
    }
   ],
   "source": [
    "c = ClassName1\n",
    "c.m1()"
   ]
  },
  {
   "cell_type": "code",
   "execution_count": 20,
   "metadata": {},
   "outputs": [],
   "source": [
    "class ClassName2:\n",
    "    def __init__(self):\n",
    "        self.data = []\n",
    "    i = 1\n",
    "    def m1(self):\n",
    "        return \"m1\"\n",
    "    def m2(self):\n",
    "        return \"m2\""
   ]
  },
  {
   "cell_type": "code",
   "execution_count": 21,
   "metadata": {},
   "outputs": [],
   "source": [
    "c = ClassName2()"
   ]
  },
  {
   "cell_type": "code",
   "execution_count": 26,
   "metadata": {},
   "outputs": [
    {
     "data": {
      "text/plain": [
       "'m1'"
      ]
     },
     "execution_count": 26,
     "metadata": {},
     "output_type": "execute_result"
    }
   ],
   "source": [
    "c.m1()"
   ]
  },
  {
   "cell_type": "code",
   "execution_count": null,
   "metadata": {},
   "outputs": [],
   "source": []
  },
  {
   "cell_type": "code",
   "execution_count": 29,
   "metadata": {},
   "outputs": [],
   "source": [
    "class __metaclass__(type):\n",
    "    __repr__ = lambda cls: cls.__name__"
   ]
  },
  {
   "cell_type": "code",
   "execution_count": 52,
   "metadata": {},
   "outputs": [],
   "source": [
    "class ex_2:\n",
    "    \"Serious order disagreement\" #From Guido\n",
    "    class O: pass\n",
    "    class X(O): pass\n",
    "    class Y(O): pass\n",
    "#     class A(X,Y): pass\n",
    "#     class B(Y,X): pass"
   ]
  },
  {
   "cell_type": "code",
   "execution_count": 57,
   "metadata": {},
   "outputs": [
    {
     "name": "stdout",
     "output_type": "stream",
     "text": [
      "<class '__main__.ex_2.O'>\n",
      "<class '__main__.ex_2.X'>\n",
      "(<class 'object'>,)\n"
     ]
    }
   ],
   "source": [
    "print(ex_2.O)\n",
    "print(ex_2.X)\n",
    "# print(ex_2.A)\n",
    "a = ex_2.O\n",
    "a()\n",
    "print(ex_2.O.__bases__)"
   ]
  },
  {
   "cell_type": "markdown",
   "metadata": {},
   "source": [
    "# 29.7. abc — 抽象基底クラス"
   ]
  },
  {
   "cell_type": "code",
   "execution_count": 97,
   "metadata": {},
   "outputs": [],
   "source": [
    "from abc import ABCMeta\n",
    "\n",
    "class MyABC(metaclass=ABCMeta):\n",
    "    pass\n",
    "\n",
    "MyABC.register(tuple)\n",
    "\n",
    "assert issubclass(tuple, MyABC)\n",
    "assert isinstance((), MyABC)\n"
   ]
  },
  {
   "cell_type": "markdown",
   "metadata": {},
   "source": [
    "@abc.abstractmethod：抽象メソッドを示すデコレータ"
   ]
  },
  {
   "cell_type": "code",
   "execution_count": 95,
   "metadata": {},
   "outputs": [
    {
     "ename": "TypeError",
     "evalue": "Can't instantiate abstract class AbsAnimal with abstract methods eat",
     "output_type": "error",
     "traceback": [
      "\u001b[0;31m---------------------------------------------------------------------------\u001b[0m",
      "\u001b[0;31mTypeError\u001b[0m                                 Traceback (most recent call last)",
      "\u001b[0;32m<ipython-input-95-1f471b3ef275>\u001b[0m in \u001b[0;36m<module>\u001b[0;34m()\u001b[0m\n\u001b[1;32m      5\u001b[0m         \u001b[0;32mpass\u001b[0m\u001b[0;34m\u001b[0m\u001b[0m\n\u001b[1;32m      6\u001b[0m \u001b[0;34m\u001b[0m\u001b[0m\n\u001b[0;32m----> 7\u001b[0;31m \u001b[0mtmp\u001b[0m \u001b[0;34m=\u001b[0m \u001b[0mAbsAnimal\u001b[0m\u001b[0;34m(\u001b[0m\u001b[0;34m)\u001b[0m\u001b[0;34m\u001b[0m\u001b[0m\n\u001b[0m",
      "\u001b[0;31mTypeError\u001b[0m: Can't instantiate abstract class AbsAnimal with abstract methods eat"
     ]
    }
   ],
   "source": [
    "from abc import ABCMeta, abstractmethod\n",
    "class AbsAnimal(metaclass=ABCMeta):\n",
    "    @abstractmethod\n",
    "    def eat():\n",
    "        pass\n",
    "\n",
    "tmp = AbsAnimal()"
   ]
  },
  {
   "cell_type": "markdown",
   "metadata": {},
   "source": [
    "abstractmethodのクラスをそのまま使わないでねって"
   ]
  },
  {
   "cell_type": "code",
   "execution_count": 98,
   "metadata": {},
   "outputs": [
    {
     "name": "stdout",
     "output_type": "stream",
     "text": [
      "おいしい!\n",
      "baw!baw!\n"
     ]
    }
   ],
   "source": [
    "from abc import ABCMeta\n",
    "class AbsAnimal(metaclass=ABCMeta):\n",
    "    @abstractmethod\n",
    "    def eat(self):\n",
    "        pass\n",
    "\n",
    "class Human(AbsAnimal):\n",
    "    def eat(self):\n",
    "        print('おいしい!')\n",
    "class Dog(AbsAnimal):\n",
    "    def eat(self):\n",
    "        print('baw!baw!')\n",
    "\n",
    "tmp = Human()\n",
    "tmp.eat()\n",
    "\n",
    "tmp = Dog()\n",
    "tmp.eat()"
   ]
  },
  {
   "cell_type": "code",
   "execution_count": null,
   "metadata": {},
   "outputs": [],
   "source": []
  },
  {
   "cell_type": "code",
   "execution_count": null,
   "metadata": {},
   "outputs": [],
   "source": []
  },
  {
   "cell_type": "markdown",
   "metadata": {},
   "source": [
    "# ◆デザインパターン"
   ]
  },
  {
   "cell_type": "code",
   "execution_count": null,
   "metadata": {},
   "outputs": [],
   "source": [
    "#http://doloopwhile.hatenablog.com/entry/20090627/1275175981"
   ]
  },
  {
   "cell_type": "markdown",
   "metadata": {},
   "source": [
    "# ◆◆ 生成に関するパターン"
   ]
  },
  {
   "cell_type": "markdown",
   "metadata": {},
   "source": [
    "# Abstract Factory パターン"
   ]
  },
  {
   "cell_type": "markdown",
   "metadata": {},
   "source": [
    "関連するインスタンス群を生成するための API を集約することによって、複数のモジュール群の再利用を効率化する。抽象的な工場。"
   ]
  },
  {
   "cell_type": "code",
   "execution_count": null,
   "metadata": {},
   "outputs": [],
   "source": []
  },
  {
   "cell_type": "code",
   "execution_count": 163,
   "metadata": {},
   "outputs": [],
   "source": [
    "# from abc import ABCMeta\n",
    "# class AbstractCreator(metaclass=ABCMeta):\n",
    "#     def __init__(self):\n",
    "#         self.name = \"\"\n",
    "#     @abstractmethod\n",
    "#     def createInstrument(self):\n",
    "#         return Animal()\n"
   ]
  },
  {
   "cell_type": "code",
   "execution_count": 157,
   "metadata": {},
   "outputs": [],
   "source": []
  },
  {
   "cell_type": "code",
   "execution_count": 159,
   "metadata": {},
   "outputs": [],
   "source": [
    "# from abc import ABCMeta\n",
    "# class Animal(metaclass=ABCMeta):\n",
    "#     def __init__(self):\n",
    "#         self.voice = \"\"\n",
    "#     def setVoice(self, voice):\n",
    "#         self.voice = voice\n",
    "#     def printVoice(self):\n",
    "#         print(self.voice)\n",
    "#     @abstractmethod\n",
    "#     def play(self):\n",
    "#         pass"
   ]
  },
  {
   "cell_type": "markdown",
   "metadata": {},
   "source": [
    "# ◆◆振る舞いに関するパターン"
   ]
  },
  {
   "cell_type": "markdown",
   "metadata": {},
   "source": [
    "# Template Method パターン"
   ]
  },
  {
   "cell_type": "markdown",
   "metadata": {},
   "source": [
    "GOF定義の一つ。「振る舞いに関するパターン」。ある処理のおおまかなアルゴリズムをあらかじめ決めておいて、そのアルゴリズムの具体的な設計をサブクラスに任せることである。そのため、システムのフレームワークを構築するための手段としてよく活用される。    \n",
    "\n",
    "AbstractClass:StringLister    \n",
    "AbstractClass#templateMethod():StringLister#display()    \n",
    "ConcreteClass:PlainTextStringLister,HtmlStringLister    "
   ]
  },
  {
   "cell_type": "markdown",
   "metadata": {},
   "source": [
    "<img src=\"data:image/png;base64,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\" width=\"300\" height=\"200\">"
   ]
  },
  {
   "cell_type": "code",
   "execution_count": 141,
   "metadata": {},
   "outputs": [],
   "source": [
    "from abc import ABCMeta\n",
    "class StringLister(metaclass=ABCMeta):\n",
    "    def __init__(self):\n",
    "        self.result = []\n",
    "    @abstractmethod\n",
    "    def formatHeader(self):\n",
    "        pass\n",
    "    @abstractmethod\n",
    "    def formatItem(self, item):\n",
    "        pass\n",
    "    @abstractmethod\n",
    "    def formatFooter(self):\n",
    "        pass\n",
    "    #処理をテンプレートで決めとく。\n",
    "    def display(self, items):\n",
    "        self.result.append(self.formatHeader())\n",
    "        for item in items:\n",
    "            self.result.append(item)\n",
    "        return self.result"
   ]
  },
  {
   "cell_type": "code",
   "execution_count": 143,
   "metadata": {},
   "outputs": [],
   "source": [
    "#抽象クラスを継承して値を入れてる。\n",
    "class PlainTextStringLister(StringLister):\n",
    "    def formatHeader(self):\n",
    "        return \"\"\n",
    "    def formatItem(self, item):\n",
    "        return \"-\" + item + \"¥r¥n\"\n",
    "    def formatFooter(self):\n",
    "        return \"\""
   ]
  },
  {
   "cell_type": "code",
   "execution_count": 137,
   "metadata": {},
   "outputs": [],
   "source": [
    "class HtmlStringLister(StringLister):\n",
    "    def formatHeader(self):\n",
    "        return \"&lt;ul>\\r\\n\"\n",
    "    def formatItem(self, item):\n",
    "        return \"  &lt;li>\" + item + \"&lt;/li>\\r\\n\"\n",
    "    def formatFooter(self):\n",
    "        return \"&lt;/ul>\\r\\n\""
   ]
  },
  {
   "cell_type": "code",
   "execution_count": 144,
   "metadata": {},
   "outputs": [
    {
     "data": {
      "text/plain": [
       "['', 'First', 'Second', 'Third']"
      ]
     },
     "execution_count": 144,
     "metadata": {},
     "output_type": "execute_result"
    }
   ],
   "source": [
    "#色んなフォーマットにも対応できる。\n",
    "items = [\"First\", \"Second\", \"Third\"]\n",
    "pl = PlainTextStringLister()\n",
    "pl.display(items)"
   ]
  },
  {
   "cell_type": "code",
   "execution_count": 140,
   "metadata": {},
   "outputs": [
    {
     "data": {
      "text/plain": [
       "['&lt;ul>\\r\\n', 'First', 'Second', 'Third']"
      ]
     },
     "execution_count": 140,
     "metadata": {},
     "output_type": "execute_result"
    }
   ],
   "source": [
    "hl = HtmlStringLister()\n",
    "hl.display(items)"
   ]
  },
  {
   "cell_type": "code",
   "execution_count": null,
   "metadata": {},
   "outputs": [],
   "source": []
  },
  {
   "cell_type": "code",
   "execution_count": null,
   "metadata": {},
   "outputs": [],
   "source": []
  },
  {
   "cell_type": "code",
   "execution_count": null,
   "metadata": {},
   "outputs": [],
   "source": []
  },
  {
   "cell_type": "code",
   "execution_count": null,
   "metadata": {},
   "outputs": [],
   "source": []
  },
  {
   "cell_type": "code",
   "execution_count": null,
   "metadata": {},
   "outputs": [],
   "source": []
  },
  {
   "cell_type": "markdown",
   "metadata": {},
   "source": [
    "# ◆Python 標準ライブラリ"
   ]
  },
  {
   "cell_type": "markdown",
   "metadata": {},
   "source": [
    "# 26.4. unittest — ユニットテストフレームワーク"
   ]
  },
  {
   "cell_type": "markdown",
   "metadata": {},
   "source": [
    "テストケースは、 unittest.TestCase のサブクラスとして作成します。メソッド名が test で始まる三つのメソッドがテストです。テストランナーはこの命名規約によってテストを行うメソッドを検索します。    \n",
    "これらのテスト内では、予定の結果が得られていることを確かめるために assertEqual() を、条件のチェックに assertTrue() や assertFalse() を、例外が発生する事を確認するために assertRaises() をそれぞれ呼び出しています。 assert 文の代わりにこれらのメソッドを使用すると、テストランナーでテスト結果を集計してレポートを作成する事ができます。"
   ]
  },
  {
   "cell_type": "code",
   "execution_count": 9,
   "metadata": {},
   "outputs": [
    {
     "name": "stderr",
     "output_type": "stream",
     "text": [
      "...\n",
      "----------------------------------------------------------------------\n",
      "Ran 3 tests in 0.003s\n",
      "\n",
      "OK\n"
     ]
    }
   ],
   "source": [
    "import unittest\n",
    "\n",
    "class TestStringMethods(unittest.TestCase):\n",
    "\n",
    "    def test_upper(self):\n",
    "        self.assertEqual('foo'.upper(), 'FOO')\n",
    "\n",
    "    def test_isupper(self):\n",
    "        self.assertTrue('FOO'.isupper())\n",
    "        self.assertFalse('Foo'.isupper())\n",
    "\n",
    "    def test_split(self):\n",
    "        s = 'hello world'\n",
    "        self.assertEqual(s.split(), ['hello', 'world'])\n",
    "        # check that s.split fails when the separator is not a string\n",
    "        with self.assertRaises(TypeError):\n",
    "            s.split(2)\n",
    "\n",
    "if __name__ == '__main__':\n",
    "    unittest.main(argv=['first-arg-is-ignored'], exit=False)"
   ]
  },
  {
   "cell_type": "markdown",
   "metadata": {},
   "source": [
    "上の例が unittest モジュールで最もよく使われる機能で、ほとんどのテストではこれで十分です。以下では全ての機能を一から解説しています。"
   ]
  },
  {
   "cell_type": "markdown",
   "metadata": {},
   "source": [
    "# 26.4.4. テストコードの構成"
   ]
  },
  {
   "cell_type": "code",
   "execution_count": null,
   "metadata": {},
   "outputs": [],
   "source": [
    "import unittest\n",
    "\n",
    "class DefaultWidgetSizeTestCase(unittest.TestCase):\n",
    "    def test_default_widget_size(self):\n",
    "        widget = Widget('The widget')\n",
    "        self.assertEqual(widget.size(), (50, 50))"
   ]
  },
  {
   "cell_type": "markdown",
   "metadata": {},
   "source": [
    "# xml"
   ]
  },
  {
   "cell_type": "code",
   "execution_count": 4,
   "metadata": {},
   "outputs": [],
   "source": [
    "#https://www.lifewithpython.com/2013/06/ElementTree.html\n",
    "import os\n",
    "import xml.etree.ElementTree as ET"
   ]
  },
  {
   "cell_type": "code",
   "execution_count": 9,
   "metadata": {},
   "outputs": [
    {
     "name": "stdout",
     "output_type": "stream",
     "text": [
      "<Element 'feed' at 0x106ea86d8>\n",
      "feed\n",
      "{'attrB': 'value B', 'attrA': 'value A'}\n"
     ]
    }
   ],
   "source": [
    "XMLFILE = \"sample.xml\"\n",
    "\n",
    "tree = ET.parse(XMLFILE)  # ファイルから読み込み\n",
    "root = tree.getroot()\n",
    "print(root)\n",
    "print(root.tag)\n",
    "print(root.attrib)"
   ]
  },
  {
   "cell_type": "code",
   "execution_count": 10,
   "metadata": {},
   "outputs": [
    {
     "name": "stdout",
     "output_type": "stream",
     "text": [
      "title\n",
      "categories\n"
     ]
    }
   ],
   "source": [
    "for e in root:\n",
    "    print(e.tag)"
   ]
  },
  {
   "cell_type": "code",
   "execution_count": null,
   "metadata": {},
   "outputs": [],
   "source": []
  }
 ],
 "metadata": {
  "kernelspec": {
   "display_name": "Python 3",
   "language": "python",
   "name": "python3"
  },
  "language_info": {
   "codemirror_mode": {
    "name": "ipython",
    "version": 3
   },
   "file_extension": ".py",
   "mimetype": "text/x-python",
   "name": "python",
   "nbconvert_exporter": "python",
   "pygments_lexer": "ipython3",
   "version": "3.5.4"
  }
 },
 "nbformat": 4,
 "nbformat_minor": 2
}
