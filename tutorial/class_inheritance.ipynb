{
 "cells": [
  {
   "cell_type": "markdown",
   "metadata": {},
   "source": [
    "# 継承と多重継承"
   ]
  },
  {
   "cell_type": "markdown",
   "metadata": {},
   "source": [
    "継承には単一継承と多重継承の２種類ある。    \n",
    "Pythonは多重継承に対応している。    \n",
    "他のプログラムと違っってPythonではインスタンス変数は継承されない。メソッドとクラス変数は継承される。    \n",
    "\n",
    "多重継承の時に同じ名前のメソッドの探索順序について。    \n",
    "\n",
    "\n",
    "- 継承と多重継承とミックスイン    \n",
    "http://ichitcltk.hustle.ne.jp/gudon2/index.php?pageType=file&id=python_class_inheritance.md\n",
    "\n",
    "\n"
   ]
  },
  {
   "cell_type": "code",
   "execution_count": 6,
   "metadata": {},
   "outputs": [
    {
     "name": "stdout",
     "output_type": "stream",
     "text": [
      "スーパクラスのメソッドを実行しました。\n"
     ]
    }
   ],
   "source": [
    "#　継承例\n",
    "class SuperCls(object):\n",
    "    def method(self):\n",
    "        print(\"スーパクラスのメソッドを実行しました。\")\n",
    "\n",
    "class SubCls(SuperCls):\n",
    "    pass\n",
    "\n",
    "sub_inst=SubCls()\n",
    "sub_inst.method() #SuperClsのmethodを呼び出した。\n"
   ]
  },
  {
   "cell_type": "code",
   "execution_count": 8,
   "metadata": {},
   "outputs": [
    {
     "name": "stdout",
     "output_type": "stream",
     "text": [
      "SuperClsAのメソッドを実行しました。\n",
      "SuperClsBのメソッドを実行しました。\n"
     ]
    }
   ],
   "source": [
    "class SuperClsA(object):\n",
    "    def method_a(self):\n",
    "        print(\"SuperClsAのメソッドを実行しました。\")\n",
    "\n",
    "class SuperClsB(object):\n",
    "    def method_b(self):\n",
    "        print(\"SuperClsBのメソッドを実行しました。\")\n",
    "\n",
    "#AとBのクラスを継承\n",
    "class SubCls(SuperClsA,SuperClsB):\n",
    "    pass\n",
    "\n",
    "sub_inst=SubCls()\n",
    "sub_inst.method_a()\n",
    "sub_inst.method_b()"
   ]
  },
  {
   "cell_type": "code",
   "execution_count": 9,
   "metadata": {},
   "outputs": [
    {
     "name": "stdout",
     "output_type": "stream",
     "text": [
      "SubClsABのmethodを実行しました。\n",
      "SuperClsAのmethodを実行しました。\n"
     ]
    }
   ],
   "source": [
    "#super組み込み関数を使用\n",
    "class SuperClsA(object):\n",
    "    def method(self):\n",
    "        print(\"SuperClsAのmethodを実行しました。\")\n",
    "\n",
    "class SuperClsB(object):\n",
    "    def method(self):\n",
    "        print(\"SuperClsBのmethodを実行しました。\")\n",
    "\n",
    "class SubClsAB(SuperClsA,SuperClsB):\n",
    "    def method(self):\n",
    "        print(\"SubClsABのmethodを実行しました。\")\n",
    "        super(SubClsAB,self).method()\n",
    "\n",
    "sub_inst=SubClsAB()\n",
    "sub_inst.method() #Aは実行されるが、Bは実行されない"
   ]
  },
  {
   "cell_type": "code",
   "execution_count": 11,
   "metadata": {},
   "outputs": [
    {
     "name": "stdout",
     "output_type": "stream",
     "text": [
      "SubClsABのmethodを実行しました。\n",
      "SuperClsAのmethodを実行しました。\n",
      "SuperClsBのmethodを実行しました。\n"
     ]
    }
   ],
   "source": [
    "#AB両方のsuperクラスのmethodを実行する\n",
    "class SuperClsA(object):\n",
    "    def method(self):\n",
    "        print(\"SuperClsAのmethodを実行しました。\")\n",
    "\n",
    "class SuperClsB(object):\n",
    "    def method(self):\n",
    "        print(\"SuperClsBのmethodを実行しました。\")\n",
    "\n",
    "class SubClsAB(SuperClsA,SuperClsB):\n",
    "    def method(self):\n",
    "        print(\"SubClsABのmethodを実行しました。\")\n",
    "        super(SubClsAB,self).method()\n",
    "        super(SuperClsA,self).method() #ここは一旦モヤっとしとく\n",
    "        \n",
    "sub_inst=SubClsAB()\n",
    "sub_inst.method()"
   ]
  },
  {
   "cell_type": "code",
   "execution_count": 14,
   "metadata": {},
   "outputs": [
    {
     "name": "stdout",
     "output_type": "stream",
     "text": [
      "SubClsABのmethodを実行しました。\n",
      "SuperClsBのmethodを実行しました。\n",
      "SuperClsAのmethodを実行しました。\n"
     ]
    }
   ],
   "source": [
    "#AB両方のsuperクラスのmethodを実行する\n",
    "class SuperClsA(object):\n",
    "    def method(self):\n",
    "        print(\"SuperClsAのmethodを実行しました。\")\n",
    "\n",
    "class SuperClsB(object):\n",
    "    def method(self):\n",
    "        print(\"SuperClsBのmethodを実行しました。\")\n",
    "\n",
    "class SubClsBA(SuperClsB,SuperClsA):\n",
    "    def method(self):\n",
    "        print(\"SubClsABのmethodを実行しました。\")\n",
    "        super(SubClsBA,self).method()\n",
    "        super(SuperClsB,self).method() #AじゃなくてBをsuperで指定しても動く\n",
    "\n",
    "sub_inst=SubClsBA()\n",
    "sub_inst.method()"
   ]
  },
  {
   "cell_type": "code",
   "execution_count": 16,
   "metadata": {},
   "outputs": [
    {
     "name": "stdout",
     "output_type": "stream",
     "text": [
      "SubClsABのmethodを実行しました。\n",
      "SuperSuperClsAのmethodを実行しました。\n",
      "SuperClsBのmethodを実行しました。\n"
     ]
    }
   ],
   "source": [
    "#SuperClsAのmethodを決して、継承元にmethodを書く\n",
    "class SuperSuperClsA(object):\n",
    "    def method(self):\n",
    "        print(\"SuperSuperClsAのmethodを実行しました。\")\n",
    "\n",
    "class SuperClsA(SuperSuperClsA):\n",
    "    pass\n",
    "\n",
    "class SuperClsB(object):\n",
    "    def method(self):\n",
    "        print(\"SuperClsBのmethodを実行しました。\")\n",
    "\n",
    "class SubClsAB(SuperClsA,SuperClsB):\n",
    "    def method(self):\n",
    "        print(\"SubClsABのmethodを実行しました。\")\n",
    "        super(SubClsAB,self).method()\n",
    "        super(SuperSuperClsA,self).method()\n",
    "\n",
    "sub_inst=SubClsAB()\n",
    "sub_inst.method()\n",
    "#確かに深さ優先で左から順にmethodを探索してる"
   ]
  },
  {
   "cell_type": "code",
   "execution_count": 17,
   "metadata": {},
   "outputs": [
    {
     "name": "stdout",
     "output_type": "stream",
     "text": [
      "SubClsABのmethodを実行しました。\n",
      "SuperSuperClsAのmethodを実行しました。\n",
      "SuperClsBのmethodを実行しました。\n"
     ]
    }
   ],
   "source": [
    "#確かにこれが一番見た目がいい\n",
    "class SuperSuperClsA(object):\n",
    "    def method(self):\n",
    "        print(\"SuperSuperClsAのmethodを実行しました。\")\n",
    "        try:\n",
    "            super(SuperSuperClsA,self).method()\n",
    "        except AttributeError:\n",
    "            pass\n",
    "\n",
    "class SuperClsA(SuperSuperClsA):\n",
    "    pass\n",
    "\n",
    "class SuperClsB(object):\n",
    "    def method(self):\n",
    "        print(\"SuperClsBのmethodを実行しました。\")\n",
    "        try:\n",
    "            super(SuperClsB,self).method()\n",
    "        except AttributeError:\n",
    "            pass\n",
    "\n",
    "class SubClsAB(SuperClsA,SuperClsB):\n",
    "    def method(self):\n",
    "        print(\"SubClsABのmethodを実行しました。\")\n",
    "        super(SubClsAB,self).method()\n",
    "\n",
    "sub_inst=SubClsAB()\n",
    "sub_inst.method()"
   ]
  },
  {
   "cell_type": "markdown",
   "metadata": {},
   "source": [
    "\n",
    "続きはこっち    \n",
    "http://www.geocities.jp/m_hiroi/light/python06.html#chap11\n"
   ]
  },
  {
   "cell_type": "code",
   "execution_count": null,
   "metadata": {},
   "outputs": [],
   "source": []
  }
 ],
 "metadata": {
  "kernelspec": {
   "display_name": "Python 3",
   "language": "python",
   "name": "python3"
  },
  "language_info": {
   "codemirror_mode": {
    "name": "ipython",
    "version": 3
   },
   "file_extension": ".py",
   "mimetype": "text/x-python",
   "name": "python",
   "nbconvert_exporter": "python",
   "pygments_lexer": "ipython3",
   "version": "3.5.5"
  }
 },
 "nbformat": 4,
 "nbformat_minor": 2
}
